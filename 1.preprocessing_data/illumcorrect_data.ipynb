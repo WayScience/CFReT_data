{
 "cells": [
  {
   "cell_type": "markdown",
   "metadata": {},
   "source": [
    "# Illumination Correction of CFReT Images"
   ]
  },
  {
   "cell_type": "markdown",
   "metadata": {},
   "source": [
    "## Import Libraries"
   ]
  },
  {
   "cell_type": "code",
   "execution_count": 1,
   "metadata": {},
   "outputs": [],
   "source": [
    "import sys\n",
    "import pathlib\n",
    "import os\n",
    "\n",
    "import timeit\n",
    "\n",
    "sys.path.append(\"../utils\")\n",
    "import ICutils as icutils"
   ]
  },
  {
   "attachments": {},
   "cell_type": "markdown",
   "metadata": {},
   "source": [
    "## Set paths and variables"
   ]
  },
  {
   "cell_type": "code",
   "execution_count": 2,
   "metadata": {},
   "outputs": [],
   "source": [
    "# path where plates are located containing images\n",
    "data_path = pathlib.Path('../0.download_data/Images/')\n",
    "\n",
    "# path for plates with corrected images to be saved to\n",
    "save_path = pathlib.Path(\"./Corrected_Images\")\n",
    "# if directory if doesn't exist, will not raise error if it already exists\n",
    "os.makedirs(save_path, exist_ok=True)\n",
    "\n",
    "# Plates to process\n",
    "plates = [\"localhost220512140003_KK22-05-198\", \"localhost220513100001_KK22-05-198_FactinAdjusted\", \"localhost230405150001\"]\n",
    "\n",
    "# Channels to process\n",
    "channels = [\"d0\", \"d1\", \"d2\", \"d3\", \"d4\"]"
   ]
  },
  {
   "attachments": {},
   "cell_type": "markdown",
   "metadata": {},
   "source": [
    "## Perform Illumination Correction on CFReT pilot images\n",
    "\n",
    "**Note:** We use the nbconverted python script to perform IC so this cell is not completed."
   ]
  },
  {
   "cell_type": "code",
   "execution_count": 3,
   "metadata": {},
   "outputs": [
    {
     "name": "stdout",
     "output_type": "stream",
     "text": [
      "Correcting images from plate localhost220512140003_KK22-05-198\n",
      "Correcting d0 channel images\n",
      "0 / 1024\n",
      "10 / 1024\n",
      "20 / 1024\n",
      "30 / 1024\n",
      "40 / 1024\n",
      "50 / 1024\n",
      "60 / 1024\n",
      "70 / 1024\n",
      "80 / 1024\n",
      "90 / 1024\n",
      "100 / 1024\n",
      "110 / 1024\n",
      "120 / 1024\n",
      "130 / 1024\n",
      "140 / 1024\n",
      "150 / 1024\n",
      "160 / 1024\n",
      "170 / 1024\n",
      "180 / 1024\n",
      "190 / 1024\n",
      "200 / 1024\n",
      "210 / 1024\n",
      "220 / 1024\n",
      "230 / 1024\n",
      "240 / 1024\n",
      "250 / 1024\n",
      "260 / 1024\n",
      "270 / 1024\n",
      "280 / 1024\n",
      "290 / 1024\n",
      "300 / 1024\n",
      "310 / 1024\n",
      "320 / 1024\n",
      "330 / 1024\n",
      "340 / 1024\n",
      "350 / 1024\n",
      "360 / 1024\n",
      "370 / 1024\n",
      "380 / 1024\n",
      "390 / 1024\n",
      "400 / 1024\n",
      "410 / 1024\n",
      "420 / 1024\n",
      "430 / 1024\n",
      "440 / 1024\n",
      "450 / 1024\n",
      "460 / 1024\n",
      "470 / 1024\n",
      "480 / 1024\n",
      "490 / 1024\n",
      "500 / 1024\n",
      "510 / 1024\n",
      "520 / 1024\n",
      "530 / 1024\n",
      "540 / 1024\n",
      "550 / 1024\n",
      "560 / 1024\n",
      "570 / 1024\n",
      "580 / 1024\n",
      "590 / 1024\n",
      "600 / 1024\n",
      "610 / 1024\n",
      "620 / 1024\n",
      "630 / 1024\n",
      "640 / 1024\n",
      "650 / 1024\n",
      "660 / 1024\n",
      "670 / 1024\n",
      "680 / 1024\n",
      "690 / 1024\n",
      "700 / 1024\n",
      "710 / 1024\n",
      "720 / 1024\n",
      "730 / 1024\n",
      "740 / 1024\n",
      "750 / 1024\n",
      "760 / 1024\n",
      "770 / 1024\n",
      "780 / 1024\n",
      "790 / 1024\n",
      "800 / 1024\n",
      "810 / 1024\n",
      "820 / 1024\n",
      "830 / 1024\n",
      "840 / 1024\n",
      "850 / 1024\n",
      "860 / 1024\n",
      "870 / 1024\n",
      "880 / 1024\n",
      "890 / 1024\n",
      "900 / 1024\n",
      "910 / 1024\n",
      "920 / 1024\n",
      "930 / 1024\n",
      "940 / 1024\n",
      "950 / 1024\n",
      "960 / 1024\n",
      "970 / 1024\n",
      "980 / 1024\n",
      "990 / 1024\n",
      "1000 / 1024\n",
      "1010 / 1024\n",
      "1020 / 1024\n",
      "Correcting {'d0'}\n"
     ]
    },
    {
     "ename": "KeyboardInterrupt",
     "evalue": "",
     "output_type": "error",
     "traceback": [
      "\u001b[0;31m---------------------------------------------------------------------------\u001b[0m",
      "\u001b[0;31mKeyboardInterrupt\u001b[0m                         Traceback (most recent call last)",
      "Cell \u001b[0;32mIn[3], line 10\u001b[0m\n\u001b[1;32m      5\u001b[0m     \u001b[39mprint\u001b[39m(\u001b[39mf\u001b[39m\u001b[39m\"\u001b[39m\u001b[39mCorrecting \u001b[39m\u001b[39m{\u001b[39;00mchannel\u001b[39m}\u001b[39;00m\u001b[39m channel images\u001b[39m\u001b[39m\"\u001b[39m)\n\u001b[1;32m      7\u001b[0m \u001b[39m# If you want to output the flatfield and darkfield calculations, then put \"output_calc=True\".\u001b[39;00m\n\u001b[1;32m      8\u001b[0m \u001b[39m# If you would like to overwrite any existing images when running this function, set \"overwrite=True\"\u001b[39;00m\n\u001b[0;32m---> 10\u001b[0m     icutils\u001b[39m.\u001b[39;49mrun_illum_correct(\n\u001b[1;32m     11\u001b[0m         data_path\u001b[39m=\u001b[39;49mdata_path,\n\u001b[1;32m     12\u001b[0m         save_path\u001b[39m=\u001b[39;49msave_path,\n\u001b[1;32m     13\u001b[0m         plate\u001b[39m=\u001b[39;49mplate,\n\u001b[1;32m     14\u001b[0m         channel\u001b[39m=\u001b[39;49mchannel,\n\u001b[1;32m     15\u001b[0m         output_calc\u001b[39m=\u001b[39;49m\u001b[39mFalse\u001b[39;49;00m,\n\u001b[1;32m     16\u001b[0m         file_extension\u001b[39m=\u001b[39;49m\u001b[39m'\u001b[39;49m\u001b[39m.TIF\u001b[39;49m\u001b[39m'\u001b[39;49m,\n\u001b[1;32m     17\u001b[0m     )\n",
      "File \u001b[0;32m~/CFReT_data/1.preprocessing_data/../utils/ICutils.py:103\u001b[0m, in \u001b[0;36mrun_illum_correct\u001b[0;34m(data_path, save_path, plate, channel, output_calc, file_extension, overwrite)\u001b[0m\n\u001b[1;32m    100\u001b[0m \u001b[39mprint\u001b[39m(\u001b[39m\"\u001b[39m\u001b[39mCorrecting\u001b[39m\u001b[39m\"\u001b[39m, {channel})\n\u001b[1;32m    102\u001b[0m \u001b[39mtry\u001b[39;00m: \n\u001b[0;32m--> 103\u001b[0m     flatfield, darkfield \u001b[39m=\u001b[39m pybasic\u001b[39m.\u001b[39;49mbasic(images, darkfield\u001b[39m=\u001b[39;49m\u001b[39mTrue\u001b[39;49;00m)\n\u001b[1;32m    105\u001b[0m     \u001b[39m# Optional output that displays the plots for the flatfield and darkfield calculations if set to True (default is False)\u001b[39;00m\n\u001b[1;32m    106\u001b[0m     \u001b[39mif\u001b[39;00m output_calc \u001b[39m==\u001b[39m \u001b[39mTrue\u001b[39;00m:\n",
      "File \u001b[0;32m~/CFReT_data/1.preprocessing_data/../1.preprocessing_data/PyBaSiC/pybasic/_background.py:172\u001b[0m, in \u001b[0;36mbasic\u001b[0;34m(images_list, segmentation, verbosity, **kwargs)\u001b[0m\n\u001b[1;32m    168\u001b[0m nrows \u001b[39m=\u001b[39m ncols \u001b[39m=\u001b[39m _working_size \u001b[39m=\u001b[39m settings\u001b[39m.\u001b[39mworking_size\n\u001b[1;32m    170\u001b[0m _saved_size \u001b[39m=\u001b[39m images_list[\u001b[39m0\u001b[39m]\u001b[39m.\u001b[39mshape\n\u001b[0;32m--> 172\u001b[0m D \u001b[39m=\u001b[39m np\u001b[39m.\u001b[39mdstack(_resize_images_list(images_list\u001b[39m=\u001b[39;49mimages_list, side_size\u001b[39m=\u001b[39;49m_working_size))\n\u001b[1;32m    174\u001b[0m meanD \u001b[39m=\u001b[39m np\u001b[39m.\u001b[39mmean(D, axis\u001b[39m=\u001b[39m\u001b[39m2\u001b[39m)\n\u001b[1;32m    175\u001b[0m meanD \u001b[39m=\u001b[39m meanD \u001b[39m/\u001b[39m np\u001b[39m.\u001b[39mmean(meanD)\n",
      "File \u001b[0;32m~/CFReT_data/1.preprocessing_data/../1.preprocessing_data/PyBaSiC/pybasic/tools/_resize.py:15\u001b[0m, in \u001b[0;36m_resize_images_list\u001b[0;34m(images_list, side_size, x_side_size, y_side_size)\u001b[0m\n\u001b[1;32m     13\u001b[0m \u001b[39mfor\u001b[39;00m i, im \u001b[39min\u001b[39;00m \u001b[39menumerate\u001b[39m(images_list):\n\u001b[1;32m     14\u001b[0m     \u001b[39mif\u001b[39;00m im\u001b[39m.\u001b[39mshape[\u001b[39m0\u001b[39m] \u001b[39m!=\u001b[39m x_side_size \u001b[39mor\u001b[39;00m im\u001b[39m.\u001b[39mshape[\u001b[39m1\u001b[39m] \u001b[39m!=\u001b[39m y_side_size:\n\u001b[0;32m---> 15\u001b[0m         resized_images_list\u001b[39m.\u001b[39mappend(skresize(\n\u001b[1;32m     16\u001b[0m             im, \n\u001b[1;32m     17\u001b[0m             (x_side_size, y_side_size), \n\u001b[1;32m     18\u001b[0m             order \u001b[39m=\u001b[39;49m RESIZE_ORDER, \n\u001b[1;32m     19\u001b[0m             mode \u001b[39m=\u001b[39;49m RESIZE_MODE,\n\u001b[1;32m     20\u001b[0m             preserve_range \u001b[39m=\u001b[39;49m _preserve_range\n\u001b[1;32m     21\u001b[0m             )\n\u001b[1;32m     22\u001b[0m         )\n\u001b[1;32m     23\u001b[0m     \u001b[39melse\u001b[39;00m:\n\u001b[1;32m     24\u001b[0m         resized_images_list\u001b[39m.\u001b[39mappend(im)\n",
      "File \u001b[0;32m~/.local/lib/python3.8/site-packages/skimage/transform/_warps.py:181\u001b[0m, in \u001b[0;36mresize\u001b[0;34m(image, output_shape, order, mode, cval, clip, preserve_range, anti_aliasing, anti_aliasing_sigma)\u001b[0m\n\u001b[1;32m    178\u001b[0m         \u001b[39melif\u001b[39;00m np\u001b[39m.\u001b[39many((anti_aliasing_sigma \u001b[39m>\u001b[39m \u001b[39m0\u001b[39m) \u001b[39m&\u001b[39m (factors \u001b[39m<\u001b[39m\u001b[39m=\u001b[39m \u001b[39m1\u001b[39m)):\n\u001b[1;32m    179\u001b[0m             warn(\u001b[39m\"\u001b[39m\u001b[39mAnti-aliasing standard deviation greater than zero but \u001b[39m\u001b[39m\"\u001b[39m\n\u001b[1;32m    180\u001b[0m                  \u001b[39m\"\u001b[39m\u001b[39mnot down-sampling along all axes\u001b[39m\u001b[39m\"\u001b[39m)\n\u001b[0;32m--> 181\u001b[0m     image \u001b[39m=\u001b[39m ndi\u001b[39m.\u001b[39;49mgaussian_filter(image, anti_aliasing_sigma,\n\u001b[1;32m    182\u001b[0m                                 cval\u001b[39m=\u001b[39;49mcval, mode\u001b[39m=\u001b[39;49mndi_mode)\n\u001b[1;32m    184\u001b[0m \u001b[39mif\u001b[39;00m NumpyVersion(scipy\u001b[39m.\u001b[39m__version__) \u001b[39m>\u001b[39m\u001b[39m=\u001b[39m \u001b[39m'\u001b[39m\u001b[39m1.6.0\u001b[39m\u001b[39m'\u001b[39m:\n\u001b[1;32m    185\u001b[0m     \u001b[39m# The grid_mode kwarg was introduced in SciPy 1.6.0\u001b[39;00m\n\u001b[1;32m    186\u001b[0m     zoom_factors \u001b[39m=\u001b[39m [\u001b[39m1\u001b[39m \u001b[39m/\u001b[39m f \u001b[39mfor\u001b[39;00m f \u001b[39min\u001b[39;00m factors]\n",
      "File \u001b[0;32m~/mambaforge/envs/cfret_data/lib/python3.8/site-packages/scipy/ndimage/_filters.py:368\u001b[0m, in \u001b[0;36mgaussian_filter\u001b[0;34m(input, sigma, order, output, mode, cval, truncate, radius)\u001b[0m\n\u001b[1;32m    366\u001b[0m \u001b[39mif\u001b[39;00m \u001b[39mlen\u001b[39m(axes) \u001b[39m>\u001b[39m \u001b[39m0\u001b[39m:\n\u001b[1;32m    367\u001b[0m     \u001b[39mfor\u001b[39;00m axis, sigma, order, mode, radius \u001b[39min\u001b[39;00m axes:\n\u001b[0;32m--> 368\u001b[0m         gaussian_filter1d(\u001b[39minput\u001b[39;49m, sigma, axis, order, output,\n\u001b[1;32m    369\u001b[0m                           mode, cval, truncate, radius\u001b[39m=\u001b[39;49mradius)\n\u001b[1;32m    370\u001b[0m         \u001b[39minput\u001b[39m \u001b[39m=\u001b[39m output\n\u001b[1;32m    371\u001b[0m \u001b[39melse\u001b[39;00m:\n",
      "File \u001b[0;32m~/mambaforge/envs/cfret_data/lib/python3.8/site-packages/scipy/ndimage/_filters.py:276\u001b[0m, in \u001b[0;36mgaussian_filter1d\u001b[0;34m(input, sigma, axis, order, output, mode, cval, truncate, radius)\u001b[0m\n\u001b[1;32m    274\u001b[0m \u001b[39m# Since we are calling correlate, not convolve, revert the kernel\u001b[39;00m\n\u001b[1;32m    275\u001b[0m weights \u001b[39m=\u001b[39m _gaussian_kernel1d(sigma, order, lw)[::\u001b[39m-\u001b[39m\u001b[39m1\u001b[39m]\n\u001b[0;32m--> 276\u001b[0m \u001b[39mreturn\u001b[39;00m correlate1d(\u001b[39minput\u001b[39;49m, weights, axis, output, mode, cval, \u001b[39m0\u001b[39;49m)\n",
      "File \u001b[0;32m~/mambaforge/envs/cfret_data/lib/python3.8/site-packages/scipy/ndimage/_filters.py:134\u001b[0m, in \u001b[0;36mcorrelate1d\u001b[0;34m(input, weights, axis, output, mode, cval, origin)\u001b[0m\n\u001b[1;32m    130\u001b[0m     \u001b[39mraise\u001b[39;00m \u001b[39mValueError\u001b[39;00m(\u001b[39m'\u001b[39m\u001b[39mInvalid origin; origin must satisfy \u001b[39m\u001b[39m'\u001b[39m\n\u001b[1;32m    131\u001b[0m                      \u001b[39m'\u001b[39m\u001b[39m-(len(weights) // 2) <= origin <= \u001b[39m\u001b[39m'\u001b[39m\n\u001b[1;32m    132\u001b[0m                      \u001b[39m'\u001b[39m\u001b[39m(len(weights)-1) // 2\u001b[39m\u001b[39m'\u001b[39m)\n\u001b[1;32m    133\u001b[0m mode \u001b[39m=\u001b[39m _ni_support\u001b[39m.\u001b[39m_extend_mode_to_code(mode)\n\u001b[0;32m--> 134\u001b[0m _nd_image\u001b[39m.\u001b[39;49mcorrelate1d(\u001b[39minput\u001b[39;49m, weights, axis, output, mode, cval,\n\u001b[1;32m    135\u001b[0m                       origin)\n\u001b[1;32m    136\u001b[0m \u001b[39mreturn\u001b[39;00m output\n",
      "\u001b[0;31mKeyboardInterrupt\u001b[0m: "
     ]
    }
   ],
   "source": [
    "# Perform illumination correction on each channel seperately using a `for` loop:\n",
    "for plate in plates:\n",
    "    print(f\"Correcting images from plate {plate}\")\n",
    "    for channel in channels:\n",
    "        print(f\"Correcting {channel} channel images\")\n",
    "\n",
    "    # If you want to output the flatfield and darkfield calculations, then put \"output_calc=True\".\n",
    "    # If you would like to overwrite any existing images when running this function, set \"overwrite=True\"\n",
    "\n",
    "        icutils.run_illum_correct(\n",
    "            data_path=data_path,\n",
    "            save_path=save_path,\n",
    "            plate=plate,\n",
    "            channel=channel,\n",
    "            output_calc=False,\n",
    "            file_extension='.TIF',\n",
    "        )"
   ]
  }
 ],
 "metadata": {
  "kernelspec": {
   "display_name": "Python 3.9.12 ('base')",
   "language": "python",
   "name": "python3"
  },
  "language_info": {
   "codemirror_mode": {
    "name": "ipython",
    "version": 3
   },
   "file_extension": ".py",
   "mimetype": "text/x-python",
   "name": "python",
   "nbconvert_exporter": "python",
   "pygments_lexer": "ipython3",
   "version": "3.8.15"
  },
  "orig_nbformat": 4,
  "vscode": {
   "interpreter": {
    "hash": "de2346a42d324d44bb19689d7eba84baa92a75efb97d2fd644d2964d22834733"
   }
  }
 },
 "nbformat": 4,
 "nbformat_minor": 2
}
