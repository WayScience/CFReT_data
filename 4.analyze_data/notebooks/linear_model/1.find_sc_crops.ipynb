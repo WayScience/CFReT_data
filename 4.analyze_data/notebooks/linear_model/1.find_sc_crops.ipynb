{
 "cells": [
  {
   "cell_type": "markdown",
   "metadata": {},
   "source": [
    "# Generate single-cell crops of cells with the highest values in specific CellProfiler features based on linear model results"
   ]
  },
  {
   "cell_type": "markdown",
   "metadata": {},
   "source": [
    "## Import libraries"
   ]
  },
  {
   "cell_type": "code",
   "execution_count": 1,
   "metadata": {},
   "outputs": [],
   "source": [
    "import pathlib\n",
    "import pandas as pd\n",
    "import numpy as np\n",
    "import cv2"
   ]
  },
  {
   "cell_type": "markdown",
   "metadata": {},
   "source": [
    "## Set paths and variables"
   ]
  },
  {
   "cell_type": "code",
   "execution_count": 2,
   "metadata": {},
   "outputs": [],
   "source": [
    "path_to_images_dir = pathlib.Path(\"../../../1.preprocessing_data/Corrected_Images/localhost231120090001/\") # Focus on plate 4\n",
    "\n",
    "path_to_sc_dir = pathlib.Path(\"./sc_crops\")\n",
    "path_to_sc_dir.mkdir(exist_ok=True)\n",
    "\n",
    "sc_crop_output = pathlib.Path(f\"{path_to_sc_dir}/Cells_Intensity_IntegratedIntensity_Actin\")\n",
    "sc_crop_output.mkdir(exist_ok=True)"
   ]
  },
  {
   "cell_type": "markdown",
   "metadata": {},
   "source": [
    "## Load in feature selected and annotated data\n",
    "\n",
    "We merge specific metadata columns, nuclei center coordinates, and the relevant CellProfiler feature into a new data frame."
   ]
  },
  {
   "cell_type": "code",
   "execution_count": 3,
   "metadata": {},
   "outputs": [
    {
     "name": "stdout",
     "output_type": "stream",
     "text": [
      "(21370, 9)\n"
     ]
    },
    {
     "data": {
      "text/html": [
       "<div>\n",
       "<style scoped>\n",
       "    .dataframe tbody tr th:only-of-type {\n",
       "        vertical-align: middle;\n",
       "    }\n",
       "\n",
       "    .dataframe tbody tr th {\n",
       "        vertical-align: top;\n",
       "    }\n",
       "\n",
       "    .dataframe thead th {\n",
       "        text-align: right;\n",
       "    }\n",
       "</style>\n",
       "<table border=\"1\" class=\"dataframe\">\n",
       "  <thead>\n",
       "    <tr style=\"text-align: right;\">\n",
       "      <th></th>\n",
       "      <th>Metadata_Well</th>\n",
       "      <th>Metadata_Site</th>\n",
       "      <th>Metadata_Cells_Number_Object_Number</th>\n",
       "      <th>Metadata_treatment</th>\n",
       "      <th>Metadata_heart_number</th>\n",
       "      <th>Metadata_cell_type</th>\n",
       "      <th>Cells_Intensity_IntegratedIntensity_Actin</th>\n",
       "      <th>Nuclei_Location_Center_X</th>\n",
       "      <th>Nuclei_Location_Center_Y</th>\n",
       "    </tr>\n",
       "  </thead>\n",
       "  <tbody>\n",
       "    <tr>\n",
       "      <th>11310</th>\n",
       "      <td>D11</td>\n",
       "      <td>f09</td>\n",
       "      <td>5.0</td>\n",
       "      <td>None</td>\n",
       "      <td>4</td>\n",
       "      <td>Failing</td>\n",
       "      <td>31.598658</td>\n",
       "      <td>280.776340</td>\n",
       "      <td>988.970733</td>\n",
       "    </tr>\n",
       "    <tr>\n",
       "      <th>5583</th>\n",
       "      <td>C06</td>\n",
       "      <td>f12</td>\n",
       "      <td>27.0</td>\n",
       "      <td>None</td>\n",
       "      <td>7</td>\n",
       "      <td>Healthy</td>\n",
       "      <td>20.031266</td>\n",
       "      <td>472.110265</td>\n",
       "      <td>527.780529</td>\n",
       "    </tr>\n",
       "    <tr>\n",
       "      <th>2833</th>\n",
       "      <td>B08</td>\n",
       "      <td>f13</td>\n",
       "      <td>25.0</td>\n",
       "      <td>None</td>\n",
       "      <td>2</td>\n",
       "      <td>Healthy</td>\n",
       "      <td>15.867941</td>\n",
       "      <td>573.409786</td>\n",
       "      <td>620.861366</td>\n",
       "    </tr>\n",
       "    <tr>\n",
       "      <th>6461</th>\n",
       "      <td>C09</td>\n",
       "      <td>f01</td>\n",
       "      <td>37.0</td>\n",
       "      <td>None</td>\n",
       "      <td>23</td>\n",
       "      <td>Failing</td>\n",
       "      <td>15.305082</td>\n",
       "      <td>401.958748</td>\n",
       "      <td>1029.635710</td>\n",
       "    </tr>\n",
       "    <tr>\n",
       "      <th>10525</th>\n",
       "      <td>D08</td>\n",
       "      <td>f05</td>\n",
       "      <td>5.0</td>\n",
       "      <td>None</td>\n",
       "      <td>4</td>\n",
       "      <td>Failing</td>\n",
       "      <td>14.615589</td>\n",
       "      <td>477.324806</td>\n",
       "      <td>729.205426</td>\n",
       "    </tr>\n",
       "  </tbody>\n",
       "</table>\n",
       "</div>"
      ],
      "text/plain": [
       "      Metadata_Well Metadata_Site  Metadata_Cells_Number_Object_Number  \\\n",
       "11310           D11           f09                                  5.0   \n",
       "5583            C06           f12                                 27.0   \n",
       "2833            B08           f13                                 25.0   \n",
       "6461            C09           f01                                 37.0   \n",
       "10525           D08           f05                                  5.0   \n",
       "\n",
       "      Metadata_treatment  Metadata_heart_number Metadata_cell_type  \\\n",
       "11310               None                      4            Failing   \n",
       "5583                None                      7            Healthy   \n",
       "2833                None                      2            Healthy   \n",
       "6461                None                     23            Failing   \n",
       "10525               None                      4            Failing   \n",
       "\n",
       "       Cells_Intensity_IntegratedIntensity_Actin  Nuclei_Location_Center_X  \\\n",
       "11310                                  31.598658                280.776340   \n",
       "5583                                   20.031266                472.110265   \n",
       "2833                                   15.867941                573.409786   \n",
       "6461                                   15.305082                401.958748   \n",
       "10525                                  14.615589                477.324806   \n",
       "\n",
       "       Nuclei_Location_Center_Y  \n",
       "11310                988.970733  \n",
       "5583                 527.780529  \n",
       "2833                 620.861366  \n",
       "6461                1029.635710  \n",
       "10525                729.205426  "
      ]
     },
     "execution_count": 3,
     "metadata": {},
     "output_type": "execute_result"
    }
   ],
   "source": [
    "# load in plate 4 feature selected data frame\n",
    "plate4_fs_df = pd.read_parquet(\n",
    "    pathlib.Path(\n",
    "        \"../../../3.process_cfret_features/data/single_cell_profiles/localhost231120090001_sc_feature_selected.parquet\"\n",
    "    ),\n",
    "    columns=[\n",
    "        \"Metadata_Well\",\n",
    "        \"Metadata_Site\",\n",
    "        \"Metadata_Cells_Number_Object_Number\",\n",
    "        \"Metadata_treatment\",\n",
    "        \"Metadata_heart_number\",\n",
    "        \"Metadata_cell_type\",\n",
    "        \"Cells_Intensity_IntegratedIntensity_Actin\"\n",
    "    ],\n",
    ")\n",
    "\n",
    "coords_df = pd.read_parquet(\n",
    "    pathlib.Path(\n",
    "        \"../../../3.process_cfret_features/data/single_cell_profiles/localhost231120090001_sc_annotated.parquet\"\n",
    "    ),\n",
    "    columns=[\n",
    "        \"Metadata_Well\",\n",
    "        \"Metadata_Site\",\n",
    "        \"Metadata_Cells_Number_Object_Number\",\n",
    "        \"Nuclei_Location_Center_X\",\n",
    "        \"Nuclei_Location_Center_Y\",\n",
    "    ],\n",
    ")\n",
    "\n",
    "plate4_df = pd.merge(plate4_fs_df, coords_df, on=['Metadata_Well', 'Metadata_Site', \"Metadata_Cells_Number_Object_Number\"])\n",
    "\n",
    "plate4_df = plate4_df.sort_values(by='Cells_Intensity_IntegratedIntensity_Actin', ascending=False)\n",
    "\n",
    "print(plate4_df.shape)\n",
    "plate4_df.head(5)"
   ]
  },
  {
   "cell_type": "markdown",
   "metadata": {},
   "source": [
    "## Set up dictionary to hold info to find top single-cells from the specified CellProfiler feature"
   ]
  },
  {
   "cell_type": "code",
   "execution_count": 4,
   "metadata": {},
   "outputs": [
    {
     "name": "stdout",
     "output_type": "stream",
     "text": [
      "{'top_sc_1': {'key_to_images': 'localhost231120090001_D11f09', 'location_center_x': 280.7763401109057, 'location_center_y': 988.9707332101048}, 'top_sc_2': {'key_to_images': 'localhost231120090001_C06f12', 'location_center_x': 472.11026455026456, 'location_center_y': 527.7805291005291}, 'top_sc_3': {'key_to_images': 'localhost231120090001_B08f13', 'location_center_x': 573.4097859327217, 'location_center_y': 620.861365953109}, 'top_sc_4': {'key_to_images': 'localhost231120090001_C09f01', 'location_center_x': 401.958747620055, 'location_center_y': 1029.6357097524858}, 'top_sc_5': {'key_to_images': 'localhost231120090001_D08f05', 'location_center_x': 477.32480620155036, 'location_center_y': 729.2054263565891}}\n"
     ]
    }
   ],
   "source": [
    "plate = \"localhost231120090001\"\n",
    "\n",
    "# Assuming 'plate' variable holds the plate value\n",
    "top_sc_dict = {}\n",
    "for i, (_, row) in enumerate(plate4_df.head(5).iterrows(), start=1):\n",
    "    key_to_images = f\"{plate}_{row['Metadata_Well']}{row['Metadata_Site']}\"\n",
    "    top_sc_dict[f\"top_sc_{i}\"] = {\n",
    "        \"key_to_images\": key_to_images,\n",
    "        \"location_center_x\": row['Nuclei_Location_Center_X'],\n",
    "        \"location_center_y\": row['Nuclei_Location_Center_Y']\n",
    "    }\n",
    "\n",
    "# Check the created dictionary\n",
    "print(top_sc_dict)"
   ]
  },
  {
   "cell_type": "markdown",
   "metadata": {},
   "source": [
    "## Generate single-cell crops"
   ]
  },
  {
   "cell_type": "code",
   "execution_count": 5,
   "metadata": {},
   "outputs": [],
   "source": [
    "for single_cell, info in top_sc_dict.items():\n",
    "    # Initialize a list to store file paths\n",
    "    file_paths = []\n",
    "\n",
    "    # Create 5 different file paths with \"d0\" through \"d4\" suffixes\n",
    "    for i in range(5):\n",
    "        filename = f\"{path_to_images_dir}/{info['key_to_images']}d{i}_illumcorrect.tiff\"\n",
    "        file_paths.append(filename)\n",
    "\n",
    "    # Initialize empty lists to store the images for each channel\n",
    "    blue_channel = []\n",
    "    green_channel = []\n",
    "    red_channel = []\n",
    "\n",
    "    # Iterate through channels from the random well/site and assign the correct file names with the color channel\n",
    "    for file_path in file_paths:\n",
    "        filename = pathlib.Path(file_path).name\n",
    "        if 'd0' in filename:\n",
    "            blue_channel_image = cv2.imread(str(file_path), cv2.IMREAD_UNCHANGED)\n",
    "            blue_channel.append(blue_channel_image)\n",
    "        elif 'd1' in filename:\n",
    "            green_channel_image = cv2.imread(str(file_path), cv2.IMREAD_UNCHANGED)\n",
    "            green_channel.append(green_channel_image)\n",
    "        elif 'd4' in filename:\n",
    "            red_channel_image = cv2.imread(str(file_path), cv2.IMREAD_UNCHANGED)\n",
    "            red_channel.append(red_channel_image)\n",
    "\n",
    "    # Stack the images for each channel along the channel axis\n",
    "    blue_channel_stack = np.stack(blue_channel, axis=-1)\n",
    "    green_channel_stack = np.stack(green_channel, axis=-1)\n",
    "    red_channel_stack = np.stack(red_channel, axis=-1)\n",
    "    \n",
    "\n",
    "    # Scale the pixel values to fit within the 16-bit range (0-65535)\n",
    "    blue_channel_stack = (blue_channel_stack / np.max(blue_channel_stack) * 65535).astype(np.uint16)\n",
    "    green_channel_stack = (green_channel_stack / np.max(green_channel_stack) * 65535).astype(np.uint16)\n",
    "    red_channel_stack = (red_channel_stack / np.max(red_channel_stack) * 65535).astype(np.uint16)\n",
    "\n",
    "    # Create the RGB numpy array by merging the channels\n",
    "    composite_image = cv2.merge((blue_channel_stack, green_channel_stack, red_channel_stack)).astype(np.uint16)\n",
    "\n",
    "    # Use the location_center_x and location_center_y to create a crop\n",
    "    center_x = info.get(\"location_center_x\")\n",
    "    center_y = info.get(\"location_center_y\")\n",
    "\n",
    "    # Crop dimensions\n",
    "    crop_size = 250\n",
    "    half_crop = crop_size // 2\n",
    "\n",
    "    # Ensure the center coordinates are valid\n",
    "    if center_x is not None and center_y is not None:\n",
    "        # Calculate crop boundaries\n",
    "        top_left_x = max(int(center_x - half_crop), 0)\n",
    "        top_left_y = max(int(center_y - half_crop), 0)\n",
    "        bottom_right_x = min(int(center_x + half_crop), composite_image.shape[1])\n",
    "        bottom_right_y = min(int(center_y + half_crop), composite_image.shape[0])\n",
    "\n",
    "    # Perform cropping\n",
    "    cropped_image = composite_image[top_left_y:bottom_right_y, top_left_x:bottom_right_x]\n",
    "\n",
    "    # Ensure the cropped image is of size 250x250\n",
    "    cropped_image = cv2.resize(cropped_image, (crop_size, crop_size))\n",
    "\n",
    "    # Save crop images per row\n",
    "    cv2.imwrite(f'{sc_crop_output}/{single_cell}_cropped_image.png', cropped_image)\n"
   ]
  }
 ],
 "metadata": {
  "kernelspec": {
   "display_name": "python_analysis_cfret",
   "language": "python",
   "name": "python3"
  },
  "language_info": {
   "codemirror_mode": {
    "name": "ipython",
    "version": 3
   },
   "file_extension": ".py",
   "mimetype": "text/x-python",
   "name": "python",
   "nbconvert_exporter": "python",
   "pygments_lexer": "ipython3",
   "version": "3.9.12"
  },
  "orig_nbformat": 4
 },
 "nbformat": 4,
 "nbformat_minor": 2
}
