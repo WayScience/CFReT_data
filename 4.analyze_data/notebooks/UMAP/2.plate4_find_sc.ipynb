{
 "cells": [
  {
   "cell_type": "markdown",
   "metadata": {},
   "source": [
    "## Generate single-cell crop images based on the plate 4 UMAP coordinates"
   ]
  },
  {
   "cell_type": "markdown",
   "metadata": {},
   "source": [
    "## Import libraries"
   ]
  },
  {
   "cell_type": "code",
   "execution_count": 1,
   "metadata": {},
   "outputs": [],
   "source": [
    "import pandas as pd\n",
    "import numpy as np\n",
    "import pathlib\n",
    "import cv2"
   ]
  },
  {
   "cell_type": "markdown",
   "metadata": {},
   "source": [
    "## Set paths and variables"
   ]
  },
  {
   "cell_type": "code",
   "execution_count": 2,
   "metadata": {},
   "outputs": [],
   "source": [
    "umap_df = pd.read_csv(pathlib.Path(\"./results/UMAP_localhost231120090001_sc_feature_selected.tsv.gz\"), sep='\\t')\n",
    "\n",
    "images_dir = pathlib.Path(\"../../../1.preprocessing_data/Corrected_Images/localhost231120090001/\")\n",
    "\n",
    "plate = \"localhost231120090001\"\n",
    "\n",
    "output_dir = pathlib.Path(\"plate4_umap_crops\")\n",
    "output_dir.mkdir(parents=True,exist_ok=True)\n",
    "\n",
    "# Output dir for composite and cropped images\n",
    "output_img_dir = pathlib.Path(\"./images\")\n",
    "output_img_dir.mkdir(exist_ok=True)"
   ]
  },
  {
   "cell_type": "markdown",
   "metadata": {},
   "source": [
    "## Find single-cells per cluster\n",
    "\n",
    "- right_cluster\n",
    "  - x_min, x_max = 7.5, 10 \n",
    "  - y_min, y_max = 2.5, 4 \n",
    "- bottom_cluster\n",
    "  - x_min, x_max = -1.5, 1.5\n",
    "  - y_min, y_max = -5, -2 \n",
    "- big_middle_cluster\n",
    "  - x_min, x_max = -2.5, 6.25 \n",
    "  - y_min, y_max = -2.5, 3.75  \n",
    "- left_top_cluster\n",
    "  - x_min, x_max = -1.25, 1.25 \n",
    "  - y_min, y_max = 3.75, 7 \n",
    "- right_top_cluster\n",
    "  - x_min, x_max = 1.25, 3\n",
    "  - y_min, y_max = 3.75, 5.5"
   ]
  },
  {
   "cell_type": "code",
   "execution_count": 6,
   "metadata": {},
   "outputs": [],
   "source": [
    "# Define boundaries for the region you want to filter\n",
    "x_min, x_max = 1.25, 3\n",
    "y_min, y_max = 3.75, 5.5\n",
    "name_of_cluster = \"right_top_cluster\"\n",
    "\n",
    "# Filter dataframe based on specified region\n",
    "filtered_df = umap_df[\n",
    "    (umap_df['UMAP0'] >= x_min) & (umap_df['UMAP0'] <= x_max) &\n",
    "    (umap_df['UMAP1'] >= y_min) & (umap_df['UMAP1'] <= y_max)\n",
    "]\n",
    "\n",
    "# Randomly sample 3 rows from the filtered dataframe\n",
    "random_sample = filtered_df.sample(n=3, random_state=0) \n",
    "\n",
    "# Save random sample df for each cluster to review later\n",
    "random_sample.to_csv(f\"{output_dir}/{name_of_cluster}.csv\")\n",
    "\n",
    "# Loop through each row in the sampled dataframe\n",
    "for index, row in random_sample.iterrows():\n",
    "    # Initialize a list to store file paths\n",
    "    file_paths = []\n",
    "    # Assuming the format is \"{plate}_{well}{site}\"\n",
    "    well = row['Metadata_Well']  # Replace 'well' with the correct column name\n",
    "    site = row['Metadata_Site']  # Replace 'site' with the correct column name\n",
    "    \n",
    "    # Generate file paths with different suffixes \"d0\" through \"d4\"\n",
    "    for i in range(5):\n",
    "        filename = f\"{images_dir}/{plate}_{well}{site}d{i}_illumcorrect.tiff\"\n",
    "        file_paths.append(filename)\n",
    "\n",
    "    # Initialize empty lists to store the images for each channel\n",
    "    blue_channel = []\n",
    "    green_channel = []\n",
    "    red_channel = []\n",
    "\n",
    "    # Iterate through channels from the random well/site and assign the correct file names with the color channel\n",
    "    for file_path in file_paths:\n",
    "        filename = pathlib.Path(file_path).name\n",
    "        if 'd0' in filename:\n",
    "            blue_channel_image = cv2.imread(str(file_path), cv2.IMREAD_UNCHANGED)\n",
    "            blue_channel.append(blue_channel_image)\n",
    "        elif 'd1' in filename:\n",
    "            green_channel_image = cv2.imread(str(file_path), cv2.IMREAD_UNCHANGED)\n",
    "            green_channel.append(green_channel_image)\n",
    "        elif 'd4' in filename:\n",
    "            red_channel_image = cv2.imread(str(file_path), cv2.IMREAD_UNCHANGED)\n",
    "            red_channel.append(red_channel_image)\n",
    "\n",
    "    # Stack the images for each channel along the channel axis\n",
    "    blue_channel_stack = np.stack(blue_channel, axis=-1)\n",
    "    green_channel_stack = np.stack(green_channel, axis=-1)\n",
    "    red_channel_stack = np.stack(red_channel, axis=-1)\n",
    "    \n",
    "\n",
    "    # Scale the pixel values to fit within the 16-bit range (0-65535)\n",
    "    blue_channel_stack = (blue_channel_stack / np.max(blue_channel_stack) * 65535).astype(np.uint16)\n",
    "    green_channel_stack = (green_channel_stack / np.max(green_channel_stack) * 65535).astype(np.uint16)\n",
    "    red_channel_stack = (red_channel_stack / np.max(red_channel_stack) * 65535).astype(np.uint16)\n",
    "\n",
    "    # Create the RGB numpy array by merging the channels\n",
    "    composite_image = cv2.merge((blue_channel_stack, green_channel_stack, red_channel_stack)).astype(np.uint16)\n",
    "\n",
    "    # Use the location_center_x and location_center_y to create a crop\n",
    "    center_x = row['Metadata_Cells_Location_Center_X'] \n",
    "    center_y = row['Metadata_Cells_Location_Center_Y'] \n",
    "\n",
    "    # Crop dimensions\n",
    "    crop_size = 250\n",
    "    half_crop = crop_size // 2\n",
    "\n",
    "    # Ensure the center coordinates are valid\n",
    "    if center_x is not None and center_y is not None:\n",
    "        # Calculate crop boundaries\n",
    "        top_left_x = max(int(center_x - half_crop), 0)\n",
    "        top_left_y = max(int(center_y - half_crop), 0)\n",
    "        bottom_right_x = min(int(center_x + half_crop), composite_image.shape[1])\n",
    "        bottom_right_y = min(int(center_y + half_crop), composite_image.shape[0])\n",
    "\n",
    "    # Perform cropping\n",
    "    cropped_image = composite_image[top_left_y:bottom_right_y, top_left_x:bottom_right_x]\n",
    "\n",
    "    # Ensure the cropped image is of size 250x250\n",
    "    cropped_image = cv2.resize(cropped_image, (crop_size, crop_size))\n",
    "\n",
    "    # Save crop images per row\n",
    "    cv2.imwrite(f'{output_dir}/{name_of_cluster}_cropped_image_{index}.png', cropped_image)\n"
   ]
  }
 ],
 "metadata": {
  "kernelspec": {
   "display_name": "python_analysis_cfret",
   "language": "python",
   "name": "python3"
  },
  "language_info": {
   "codemirror_mode": {
    "name": "ipython",
    "version": 3
   },
   "file_extension": ".py",
   "mimetype": "text/x-python",
   "name": "python",
   "nbconvert_exporter": "python",
   "pygments_lexer": "ipython3",
   "version": "3.9.12"
  },
  "orig_nbformat": 4
 },
 "nbformat": 4,
 "nbformat_minor": 2
}
