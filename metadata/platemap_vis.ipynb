{
 "cells": [
  {
   "cell_type": "markdown",
   "metadata": {},
   "source": [
    "# Create platemap figures based on the platemap files"
   ]
  },
  {
   "cell_type": "markdown",
   "metadata": {},
   "source": [
    "## Import libraries"
   ]
  },
  {
   "cell_type": "code",
   "execution_count": 1,
   "metadata": {
    "vscode": {
     "languageId": "r"
    }
   },
   "outputs": [
    {
     "name": "stderr",
     "output_type": "stream",
     "text": [
      "Warning message:\n",
      "“package ‘ggplot2’ was built under R version 4.2.3”\n",
      "Warning message:\n",
      "“package ‘platetools’ was built under R version 4.2.3”\n"
     ]
    }
   ],
   "source": [
    "suppressPackageStartupMessages(library(dplyr))\n",
    "suppressPackageStartupMessages(library(ggplot2))\n",
    "suppressPackageStartupMessages(library(platetools))"
   ]
  },
  {
   "cell_type": "markdown",
   "metadata": {},
   "source": [
    "# Set paths to each platemap and output"
   ]
  },
  {
   "cell_type": "code",
   "execution_count": 2,
   "metadata": {
    "vscode": {
     "languageId": "r"
    }
   },
   "outputs": [
    {
     "name": "stdout",
     "output_type": "stream",
     "text": [
      "[1] \"./localhost220512140003_KK22-05-198_platemap.csv\"               \n",
      "[2] \"./localhost220513100001_KK22-05-198_FactinAdjusted_platemap.csv\"\n",
      "[3] \"./localhost230405150001_platemap.csv\"                           \n",
      "[4] \"./localhost231120090001_platemap.csv\"                           \n",
      "$`localhost220512140003_KK22-05-198`\n",
      "[1] \"platemap_figures/localhost220512140003_KK22-05-198_platemap_figure.png\"\n",
      "\n",
      "$`localhost220513100001_KK22-05-198_FactinAdjusted`\n",
      "[1] \"platemap_figures/localhost220513100001_KK22-05-198_FactinAdjusted_platemap_figure.png\"\n",
      "\n",
      "$localhost230405150001\n",
      "[1] \"platemap_figures/localhost230405150001_platemap_figure.png\"\n",
      "\n",
      "$localhost231120090001\n",
      "[1] \"platemap_figures/localhost231120090001_platemap_figure.png\"\n",
      "\n"
     ]
    }
   ],
   "source": [
    "platemap_files <- list.files(pattern = \"_platemap\\\\.csv$\", full.names = TRUE)\n",
    "print(platemap_files)\n",
    "\n",
    "output_fig_dir <- file.path(\"platemap_figures\")\n",
    "platemap_suffix <- \"_platemap_figure.png\"\n",
    "\n",
    "# Define output figure paths\n",
    "output_platemap_files <- list()\n",
    "for (platemap_file in platemap_files) {\n",
    "    # Extract plate name and remove suffix \n",
    "    plate <- basename(platemap_file)\n",
    "    plate <- stringr::str_remove(plate, \"_platemap.csv\") \n",
    "    \n",
    "    output_platemap_files[[plate]] <- file.path(output_fig_dir, paste0(plate, platemap_suffix))\n",
    "}\n",
    "\n",
    "print(output_platemap_files)\n"
   ]
  },
  {
   "cell_type": "markdown",
   "metadata": {},
   "source": [
    "## Load in each platemap CSV for each plate"
   ]
  },
  {
   "cell_type": "code",
   "execution_count": 3,
   "metadata": {
    "vscode": {
     "languageId": "r"
    }
   },
   "outputs": [
    {
     "name": "stdout",
     "output_type": "stream",
     "text": [
      "$`localhost220512140003_KK22-05-198`\n",
      "\u001b[90m# A tibble: 64 × 7\u001b[39m\n",
      "   WellRow WellCol well_position heart_number treatment dose  dose_unit\n",
      "   \u001b[3m\u001b[90m<chr>\u001b[39m\u001b[23m   \u001b[3m\u001b[90m<chr>\u001b[39m\u001b[23m   \u001b[3m\u001b[90m<chr>\u001b[39m\u001b[23m         \u001b[3m\u001b[90m<chr>\u001b[39m\u001b[23m        \u001b[3m\u001b[90m<chr>\u001b[39m\u001b[23m     \u001b[3m\u001b[90m<chr>\u001b[39m\u001b[23m \u001b[3m\u001b[90m<chr>\u001b[39m\u001b[23m    \n",
      "\u001b[90m 1\u001b[39m A       1       A01           3            drug_x    5     uM       \n",
      "\u001b[90m 2\u001b[39m A       2       A02           3            drug_x    10    uM       \n",
      "\u001b[90m 3\u001b[39m A       3       A03           3            drug_x    10    uM       \n",
      "\u001b[90m 4\u001b[39m A       4       A04           3            DMSO      0     None     \n",
      "\u001b[90m 5\u001b[39m A       5       A05           8            drug_x    5     uM       \n",
      "\u001b[90m 6\u001b[39m A       6       A06           8            drug_x    10    uM       \n",
      "\u001b[90m 7\u001b[39m A       7       A07           8            drug_x    10    uM       \n",
      "\u001b[90m 8\u001b[39m A       8       A08           8            DMSO      0     None     \n",
      "\u001b[90m 9\u001b[39m B       1       B01           3            drug_x    5     uM       \n",
      "\u001b[90m10\u001b[39m B       2       B02           3            drug_x    3.33  uM       \n",
      "\u001b[90m# ℹ 54 more rows\u001b[39m\n",
      "\n",
      "$`localhost220513100001_KK22-05-198_FactinAdjusted`\n",
      "\u001b[90m# A tibble: 32 × 7\u001b[39m\n",
      "   WellRow WellCol well_position heart_number treatment dose  dose_unit\n",
      "   \u001b[3m\u001b[90m<chr>\u001b[39m\u001b[23m   \u001b[3m\u001b[90m<chr>\u001b[39m\u001b[23m   \u001b[3m\u001b[90m<chr>\u001b[39m\u001b[23m         \u001b[3m\u001b[90m<chr>\u001b[39m\u001b[23m        \u001b[3m\u001b[90m<chr>\u001b[39m\u001b[23m     \u001b[3m\u001b[90m<chr>\u001b[39m\u001b[23m \u001b[3m\u001b[90m<chr>\u001b[39m\u001b[23m    \n",
      "\u001b[90m 1\u001b[39m A       9       A09           9            drug_x    5     uM       \n",
      "\u001b[90m 2\u001b[39m A       10      A10           9            drug_x    10    uM       \n",
      "\u001b[90m 3\u001b[39m A       11      A11           9            drug_x    10    uM       \n",
      "\u001b[90m 4\u001b[39m A       12      A12           9            DMSO      0     None     \n",
      "\u001b[90m 5\u001b[39m B       9       B09           9            drug_x    5     uM       \n",
      "\u001b[90m 6\u001b[39m B       10      B10           9            drug_x    3.33  uM       \n",
      "\u001b[90m 7\u001b[39m B       11      B11           9            drug_x    3.33  uM       \n",
      "\u001b[90m 8\u001b[39m B       12      B12           9            DMSO      0     None     \n",
      "\u001b[90m 9\u001b[39m C       9       C09           9            drug_x    5     uM       \n",
      "\u001b[90m10\u001b[39m C       10      C10           9            drug_x    1.11  uM       \n",
      "\u001b[90m# ℹ 22 more rows\u001b[39m\n",
      "\n",
      "$localhost230405150001\n",
      "\u001b[90m# A tibble: 45 × 7\u001b[39m\n",
      "   WellRow WellCol well_position heart_number cell_type heart_failure_type\n",
      "   \u001b[3m\u001b[90m<chr>\u001b[39m\u001b[23m   \u001b[3m\u001b[90m<chr>\u001b[39m\u001b[23m   \u001b[3m\u001b[90m<chr>\u001b[39m\u001b[23m         \u001b[3m\u001b[90m<chr>\u001b[39m\u001b[23m        \u001b[3m\u001b[90m<chr>\u001b[39m\u001b[23m     \u001b[3m\u001b[90m<chr>\u001b[39m\u001b[23m             \n",
      "\u001b[90m 1\u001b[39m B       2       B02           9            failing   rejected          \n",
      "\u001b[90m 2\u001b[39m B       3       B03           9            failing   rejected          \n",
      "\u001b[90m 3\u001b[39m B       4       B04           9            failing   rejected          \n",
      "\u001b[90m 4\u001b[39m B       5       B05           9            failing   rejected          \n",
      "\u001b[90m 5\u001b[39m B       6       B06           9            failing   rejected          \n",
      "\u001b[90m 6\u001b[39m B       7       B07           9            failing   rejected          \n",
      "\u001b[90m 7\u001b[39m B       8       B08           9            failing   rejected          \n",
      "\u001b[90m 8\u001b[39m B       9       B09           9            failing   rejected          \n",
      "\u001b[90m 9\u001b[39m B       10      B10           9            failing   rejected          \n",
      "\u001b[90m10\u001b[39m C       2       C02           11           healthy   \u001b[31mNA\u001b[39m                \n",
      "\u001b[90m# ℹ 35 more rows\u001b[39m\n",
      "\u001b[90m# ℹ 1 more variable: treatment <chr>\u001b[39m\n",
      "\n",
      "$localhost231120090001\n",
      "\u001b[90m# A tibble: 60 × 7\u001b[39m\n",
      "   WellRow WellCol well_position heart_number cell_type heart_failure_type    \n",
      "   \u001b[3m\u001b[90m<chr>\u001b[39m\u001b[23m   \u001b[3m\u001b[90m<chr>\u001b[39m\u001b[23m   \u001b[3m\u001b[90m<chr>\u001b[39m\u001b[23m         \u001b[3m\u001b[90m<chr>\u001b[39m\u001b[23m        \u001b[3m\u001b[90m<chr>\u001b[39m\u001b[23m     \u001b[3m\u001b[90m<chr>\u001b[39m\u001b[23m                 \n",
      "\u001b[90m 1\u001b[39m B       2       B02           2            Healthy   \u001b[31mNA\u001b[39m                    \n",
      "\u001b[90m 2\u001b[39m B       3       B03           19           Failing   Dilated_Cardiomyopathy\n",
      "\u001b[90m 3\u001b[39m B       4       B04           2            Healthy   \u001b[31mNA\u001b[39m                    \n",
      "\u001b[90m 4\u001b[39m B       5       B05           19           Failing   Dilated_Cardiomyopathy\n",
      "\u001b[90m 5\u001b[39m B       6       B06           2            Healthy   \u001b[31mNA\u001b[39m                    \n",
      "\u001b[90m 6\u001b[39m B       7       B07           19           Failing   Dilated_Cardiomyopathy\n",
      "\u001b[90m 7\u001b[39m B       8       B08           2            Healthy   \u001b[31mNA\u001b[39m                    \n",
      "\u001b[90m 8\u001b[39m B       9       B09           19           Failing   Dilated_Cardiomyopathy\n",
      "\u001b[90m 9\u001b[39m B       10      B10           7            Healthy   \u001b[31mNA\u001b[39m                    \n",
      "\u001b[90m10\u001b[39m B       11      B11           2            Healthy   \u001b[31mNA\u001b[39m                    \n",
      "\u001b[90m# ℹ 50 more rows\u001b[39m\n",
      "\u001b[90m# ℹ 1 more variable: treatment <chr>\u001b[39m\n",
      "\n"
     ]
    }
   ],
   "source": [
    "# Load in all platemap CSV files\n",
    "platemap_dfs <- list()\n",
    "for (plate in names(output_platemap_files)) {\n",
    "    # Find the umap file associated with the plate\n",
    "    platemap_file <- platemap_files[stringr::str_detect(platemap_files, plate)]\n",
    "    \n",
    "    # Load in the umap data\n",
    "    df <- readr::read_csv(\n",
    "    platemap_file,\n",
    "    col_types = readr::cols(.default = \"c\")\n",
    ")\n",
    "\n",
    "    platemap_dfs[[plate]] <- df \n",
    "}\n",
    "\n",
    "print(platemap_dfs)"
   ]
  },
  {
   "cell_type": "markdown",
   "metadata": {},
   "source": [
    "## Create platemap figures for only plates 1 and 2"
   ]
  },
  {
   "cell_type": "code",
   "execution_count": 4,
   "metadata": {
    "vscode": {
     "languageId": "r"
    }
   },
   "outputs": [
    {
     "name": "stderr",
     "output_type": "stream",
     "text": [
      "Warning message:\n",
      "“Warning: Your well label count ( 32 ) covers less than half the selected plate( 96 ).\n",
      "Are you sure argument 'plate' is correct for the number of wells in your data?\n",
      "note: Default is a 96-well plate.”\n"
     ]
    }
   ],
   "source": [
    "for (plate in names(platemap_dfs)) {\n",
    "    if (plate %in% c(\"localhost220512140003_KK22-05-198\", \"localhost220513100001_KK22-05-198_FactinAdjusted\")) {\n",
    "    # output for each plate\n",
    "    output_file <- output_platemap_files[[plate]]\n",
    "    output_file <- paste0(output_file)\n",
    "    \n",
    "    platemap <-\n",
    "        platetools::raw_map(\n",
    "            data = log10(as.numeric(platemap_dfs[[plate]]$dose)),\n",
    "            well = platemap_dfs[[plate]]$well_position,\n",
    "            plate = 96,\n",
    "            size = 8\n",
    "        ) +\n",
    "        ggtitle(paste(\"Platemap layout for plate\", plate)) +\n",
    "        theme(plot.title = element_text(size = 10, face = \"bold\")) +\n",
    "        ggplot2::geom_point(aes(shape = platemap_dfs[[plate]]$treatment)) +\n",
    "        ggplot2::scale_shape_discrete(name = \"Treatment\") +\n",
    "        ggplot2::scale_fill_gradient2(\n",
    "        name = \"log10 of dose (uM)\",\n",
    "        low = \"white\",\n",
    "        mid = \"pink\",\n",
    "        high = \"red\",\n",
    "        )   \n",
    "\n",
    "    ggsave(\n",
    "        output_file,\n",
    "        platemap,\n",
    "        dpi = 500,\n",
    "        height = 3.5,\n",
    "        width = 6\n",
    "    )\n",
    "    }\n",
    "}"
   ]
  },
  {
   "cell_type": "markdown",
   "metadata": {},
   "source": [
    "## Create platemap figure for only plate 3"
   ]
  },
  {
   "cell_type": "code",
   "execution_count": 5,
   "metadata": {
    "vscode": {
     "languageId": "r"
    }
   },
   "outputs": [
    {
     "name": "stderr",
     "output_type": "stream",
     "text": [
      "Warning message:\n",
      "“Warning: Your well label count ( 45 ) covers less than half the selected plate( 96 ).\n",
      "Are you sure argument 'plate' is correct for the number of wells in your data?\n",
      "note: Default is a 96-well plate.”\n"
     ]
    }
   ],
   "source": [
    "for (plate in names(platemap_dfs)) {\n",
    "    if (plate %in% c(\"localhost230405150001\")) {\n",
    "    # output for each plate\n",
    "    output_file <- output_platemap_files[[plate]]\n",
    "    output_file <- paste0(output_file)\n",
    "    \n",
    "    platemap <-\n",
    "        platetools::raw_map(\n",
    "            data = platemap_dfs[[plate]]$treatment,\n",
    "            well = platemap_dfs[[plate]]$well_position,\n",
    "            plate = 96,\n",
    "            size = 8\n",
    "        ) +\n",
    "        ggtitle(paste(\"Platemap layout for plate\", plate)) +\n",
    "        theme(plot.title = element_text(hjust=0.5, size = 10, face = \"bold\", margin = margin(b = -5))) +\n",
    "        ggplot2::geom_point(aes(shape = platemap_dfs[[plate]]$cell_type)) +\n",
    "        ggplot2::scale_shape_discrete(name = \"Cell Type\") +\n",
    "        ggplot2::scale_fill_discrete(name = \"Treatment\")\n",
    "\n",
    "    ggsave(\n",
    "        output_file,\n",
    "        platemap,\n",
    "        dpi = 500,\n",
    "        height = 3.5,\n",
    "        width = 6\n",
    "    )\n",
    "    }\n",
    "}"
   ]
  },
  {
   "cell_type": "markdown",
   "metadata": {},
   "source": [
    "## Create platemap figure for only plate 4"
   ]
  },
  {
   "cell_type": "code",
   "execution_count": 6,
   "metadata": {
    "vscode": {
     "languageId": "r"
    }
   },
   "outputs": [],
   "source": [
    "for (plate in names(platemap_dfs)) {\n",
    "    if (plate %in% c(\"localhost231120090001\")) {\n",
    "    # output for each plate\n",
    "    output_file <- output_platemap_files[[plate]]\n",
    "    output_file <- paste0(output_file)\n",
    "    \n",
    "    platemap <-\n",
    "        platetools::raw_map(\n",
    "            data = platemap_dfs[[plate]]$heart_number,\n",
    "            well = platemap_dfs[[plate]]$well_position,\n",
    "            plate = 96,\n",
    "            size = 8\n",
    "        ) +\n",
    "        ggtitle(paste(\"Platemap layout for plate\", plate)) +\n",
    "        theme(plot.title = element_text(hjust=0.5, size = 10, face = \"bold\", margin = margin(b = -5))) +\n",
    "        ggplot2::geom_point(aes(shape = platemap_dfs[[plate]]$cell_type)) +\n",
    "        ggplot2::scale_shape_discrete(name = \"Cell Type\") +\n",
    "        ggplot2::scale_fill_discrete(name = \"Heart Number\") +\n",
    "        theme(\n",
    "            legend.position = \"right\",\n",
    "            legend.title = element_text(size = 9),\n",
    "            legend.text = element_text(size = 8),\n",
    "        ) +\n",
    "        guides(\n",
    "        shape = guide_legend(override.aes = list(size = 2)),\n",
    "        fill = guide_legend(override.aes = list(size = 5))\n",
    "    )\n",
    "\n",
    "    ggsave(\n",
    "        output_file,\n",
    "        platemap,\n",
    "        dpi = 500,\n",
    "        height = 3.5,\n",
    "        width = 6\n",
    "    )\n",
    "    }\n",
    "}"
   ]
  }
 ],
 "metadata": {
  "kernelspec": {
   "display_name": "R",
   "language": "R",
   "name": "ir"
  },
  "language_info": {
   "codemirror_mode": "r",
   "file_extension": ".r",
   "mimetype": "text/x-r-source",
   "name": "R",
   "pygments_lexer": "r",
   "version": "4.2.2"
  },
  "orig_nbformat": 4
 },
 "nbformat": 4,
 "nbformat_minor": 2
}
