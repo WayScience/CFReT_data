{
 "cells": [
  {
   "cell_type": "markdown",
   "metadata": {},
   "source": [
    "# CellProfiler Segmentation and Feature Extraction of CFReT data"
   ]
  },
  {
   "cell_type": "markdown",
   "metadata": {},
   "source": [
    "## Import libraries"
   ]
  },
  {
   "cell_type": "code",
   "execution_count": 1,
   "metadata": {},
   "outputs": [],
   "source": [
    "import pathlib\n",
    "\n",
    "import cputils as CPutils"
   ]
  },
  {
   "cell_type": "markdown",
   "metadata": {},
   "source": [
    "## Set paths for CellProfiler\n",
    "\n",
    "The paths for the command line command can be set here. These must be `absolute paths`, so these will have to be changed from what I have set below for my local machine. "
   ]
  },
  {
   "cell_type": "code",
   "execution_count": 2,
   "metadata": {},
   "outputs": [],
   "source": [
    "# path to the pipeline (specifically the .cppipe file for the command line)\n",
    "path_to_pipeline = \"/home/jenna/CFReT_data/2.cellprofiler_processing/CellProfiler_input/CFReT_project_CL.cppipe\"\n",
    "\n",
    "# path for the output directory\n",
    "path_to_output = \"/home/jenna/CFReT_data/2.cellprofiler_processing/CellProfiler_output\"\n",
    "\n",
    "# path to the images for each plate\n",
    "path_to_images_plate1 = \"/home/jenna/CFReT_data/1.preprocessing-data/IC_Corrected_Images/localhost220512140003_KK22-05-198\"\n",
    "path_to_images_plate2 = \"/home/jenna/CFReT_data/1.preprocessing-data/IC_Corrected_Images/localhost220513100001_KK22-05-198_FactinAdjusted\"\n",
    "\n",
    "# name of plate from the CP run\n",
    "plate1 = \"localhost220512140003_KK22-05-198\"\n",
    "plate2 = \"localhost220513100001_KK22-05-198_FactinAdjusted\""
   ]
  },
  {
   "cell_type": "markdown",
   "metadata": {},
   "source": [
    "## Run CellProfiler through command line and rename the file"
   ]
  },
  {
   "cell_type": "markdown",
   "metadata": {},
   "source": [
    "### Run plate localhost220512140003_KK22-05-198"
   ]
  },
  {
   "cell_type": "code",
   "execution_count": 3,
   "metadata": {},
   "outputs": [
    {
     "name": "stdout",
     "output_type": "stream",
     "text": [
      "This plate has already been analyzed!\n"
     ]
    }
   ],
   "source": [
    "# Run plate and output sqlite file\n",
    "\n",
    "CPutils.run_cellprofiler(path_to_pipeline, path_to_output, path_to_images_plate1, plate1)"
   ]
  },
  {
   "cell_type": "markdown",
   "metadata": {},
   "source": [
    "### Run plate localhost220513100001_KK22-05-198_FactinAdjusted"
   ]
  },
  {
   "cell_type": "code",
   "execution_count": 4,
   "metadata": {},
   "outputs": [
    {
     "name": "stdout",
     "output_type": "stream",
     "text": [
      "This plate has already been analyzed!\n"
     ]
    }
   ],
   "source": [
    "# Run plate localhost220513100001_KK22-05-198_FactinAdjusted\n",
    "\n",
    "CPutils.run_cellprofiler(path_to_pipeline, path_to_output, path_to_images_plate2, plate2)"
   ]
  }
 ],
 "metadata": {
  "kernelspec": {
   "display_name": "Python 3.8.13 ('cp4')",
   "language": "python",
   "name": "python3"
  },
  "language_info": {
   "codemirror_mode": {
    "name": "ipython",
    "version": 3
   },
   "file_extension": ".py",
   "mimetype": "text/x-python",
   "name": "python",
   "nbconvert_exporter": "python",
   "pygments_lexer": "ipython3",
   "version": "3.8.13"
  },
  "orig_nbformat": 4,
  "vscode": {
   "interpreter": {
    "hash": "76e63630a0eb59d63146118723e192b689e9b39a2cbdd1e2e8896e9ba1a56272"
   }
  }
 },
 "nbformat": 4,
 "nbformat_minor": 2
}
