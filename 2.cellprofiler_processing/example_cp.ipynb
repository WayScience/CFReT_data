{
 "cells": [
  {
   "cell_type": "markdown",
   "metadata": {},
   "source": [
    "# CellProfiler Segmentation and Feature Extraction of CFReT data"
   ]
  },
  {
   "cell_type": "markdown",
   "metadata": {},
   "source": [
    "## Import libraries"
   ]
  },
  {
   "cell_type": "code",
   "execution_count": 1,
   "metadata": {},
   "outputs": [],
   "source": [
    "import pathlib\n",
    "\n",
    "import importlib\n",
    "CPutils = importlib.import_module(\"cputils\")"
   ]
  },
  {
   "cell_type": "markdown",
   "metadata": {},
   "source": [
    "## Set paths for CellProfiler\n",
    "\n",
    "The paths for the command line command can be set here. These must be `absolute paths`, so these will have to be changed from what I have set below for my local machine."
   ]
  },
  {
   "cell_type": "code",
   "execution_count": 2,
   "metadata": {},
   "outputs": [],
   "source": [
    "# must be an absolute path to the pipeline (specifically the .cppipe file for the command line)\n",
    "path_to_pipeline = \"/home/jenna/CFReT_data/2.cellprofiler_processing/CellProfiler_input/CFReT_project_CL.cppipe\"\n",
    "\n",
    "# must be relative path for the output directory\n",
    "path_to_output = \"/home/jenna/CFReT_data/2.cellprofiler_processing/CellProfiler_output\"\n",
    "\n",
    "# must be relative path to the images\n",
    "path_to_images_plate1 = \"/home/jenna/CFReT_data/1.preprocessing-data/IC_Corrected_Images/localhost220512140003_KK22-05-198\"\n",
    "path_to_images_plate2 = \"/home/jenna/CFReT_data/1.preprocessing-data/IC_Corrected_Images/localhost220513100001_KK22-05-198_FactinAdjusted\""
   ]
  },
  {
   "cell_type": "markdown",
   "metadata": {},
   "source": [
    "## Run CellProfiler through command line\n",
    "\n",
    "Below is an example of the code used in terminal to run CellProfiler on one of the plates. Since there is already a file there, it will show that it can't run."
   ]
  },
  {
   "cell_type": "code",
   "execution_count": 3,
   "metadata": {},
   "outputs": [
    {
     "name": "stderr",
     "output_type": "stream",
     "text": [
      "Per_Image, Per_Cells, Per_Cytoplasm and Per_Nuclei tables already in database and overwrite not allowed. Exiting\n"
     ]
    }
   ],
   "source": [
    "CPutils.run_cellprofiler(path_to_pipeline, path_to_output, path_to_images_plate2)"
   ]
  },
  {
   "cell_type": "markdown",
   "metadata": {},
   "source": [
    "## Rename .sqlite file to identify the plate that was run"
   ]
  },
  {
   "cell_type": "markdown",
   "metadata": {},
   "source": [
    "### Set variables"
   ]
  },
  {
   "cell_type": "code",
   "execution_count": 4,
   "metadata": {},
   "outputs": [],
   "source": [
    "# relative path to the directory with .sqlite files\n",
    "sqlite_file_path = pathlib.Path(\"../CellProfiler_output/\")\n",
    "\n",
    "# name of plate from the CP run\n",
    "plate1 = \"localhost220512140003_KK22-05-198\"\n",
    "plate2 = \"localhost220513100001_KK22-05-198_FactinAdjusted\""
   ]
  },
  {
   "cell_type": "markdown",
   "metadata": {},
   "source": [
    "### Rename the file\n",
    "\n",
    "Below example shows renaming the `CFReT.sqlite` file after the `localhost220513100001_KK22-05-198_FactinAdjusted` plate was ran."
   ]
  },
  {
   "cell_type": "code",
   "execution_count": 5,
   "metadata": {},
   "outputs": [],
   "source": [
    "CPutils.rename_sqlite_file(sqlite_file_path, plate2)\n",
    "\n",
    "# After renaming the plate, repeat the steps above for the next plate until all plates have been run through CellProfiler"
   ]
  }
 ],
 "metadata": {
  "kernelspec": {
   "display_name": "Python 3.8.13 ('cp4')",
   "language": "python",
   "name": "python3"
  },
  "language_info": {
   "codemirror_mode": {
    "name": "ipython",
    "version": 3
   },
   "file_extension": ".py",
   "mimetype": "text/x-python",
   "name": "python",
   "nbconvert_exporter": "python",
   "pygments_lexer": "ipython3",
   "version": "3.8.13"
  },
  "orig_nbformat": 4,
  "vscode": {
   "interpreter": {
    "hash": "76e63630a0eb59d63146118723e192b689e9b39a2cbdd1e2e8896e9ba1a56272"
   }
  }
 },
 "nbformat": 4,
 "nbformat_minor": 2
}
