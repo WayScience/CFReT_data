{
 "cells": [
  {
   "cell_type": "markdown",
   "metadata": {},
   "source": [
    "# CellProfiler Segmentation and Feature Extraction of CFReT data"
   ]
  },
  {
   "cell_type": "markdown",
   "metadata": {},
   "source": [
    "## Import libraries"
   ]
  },
  {
   "cell_type": "code",
   "execution_count": 1,
   "metadata": {},
   "outputs": [],
   "source": [
    "import pathlib\n",
    "import pprint\n",
    "import sys\n",
    "\n",
    "sys.path.append(\"../utils/\")\n",
    "import cp_parallel as cp"
   ]
  },
  {
   "attachments": {},
   "cell_type": "markdown",
   "metadata": {},
   "source": [
    "## Set paths and variables"
   ]
  },
  {
   "cell_type": "code",
   "execution_count": 2,
   "metadata": {},
   "outputs": [
    {
     "name": "stdout",
     "output_type": "stream",
     "text": [
      "There are a total of 4 plates. The names of the plates are:\n",
      "localhost230405150001\n",
      "localhost220512140003_KK22-05-198\n",
      "localhost231120090001\n",
      "localhost220513100001_KK22-05-198_FactinAdjusted\n"
     ]
    }
   ],
   "source": [
    "# set the run type for the parallelization\n",
    "run_name = \"analysis\"\n",
    "\n",
    "# path to analysis pipeline\n",
    "path_to_pipeline = pathlib.Path(\"./pipeline/CFReT_project_CL.cppipe\").resolve(strict=True)\n",
    "\n",
    "# path to output for SQLite database files per plate folder (create if does not already exist)\n",
    "output_dir = pathlib.Path(\"./cp_output/\")\n",
    "output_dir.mkdir(exist_ok=True)\n",
    "\n",
    "# Directory where all images are separated by folder per plate\n",
    "images_dir = pathlib.Path(\"../1.preprocessing_data/Corrected_Images\").resolve(strict=True)\n",
    "\n",
    "# list for plate names based on folders to use to create dictionary\n",
    "plate_names = []\n",
    "\n",
    "# iterate through 0.download_data and append plate names from folder names that contain image data from that plate\n",
    "for file_path in images_dir.iterdir():\n",
    "    plate_names.append(str(file_path.stem))\n",
    "\n",
    "print(\"There are a total of\", len(plate_names), \"plates. The names of the plates are:\")\n",
    "for plate in plate_names:\n",
    "    print(plate)"
   ]
  },
  {
   "cell_type": "markdown",
   "metadata": {},
   "source": [
    "## Create dictionary with all of the necessary paths to run CellProfiler analysis"
   ]
  },
  {
   "cell_type": "code",
   "execution_count": 3,
   "metadata": {},
   "outputs": [
    {
     "name": "stdout",
     "output_type": "stream",
     "text": [
      "{   'localhost220512140003_KK22-05-198': {   'path_to_images': PosixPath('/home/jenna/CFReT_data/1.preprocessing_data/Corrected_Images/localhost220512140003_KK22-05-198'),\n",
      "                                             'path_to_output': PosixPath('cp_output/localhost220512140003_KK22-05-198'),\n",
      "                                             'path_to_pipeline': PosixPath('/home/jenna/CFReT_data/2.cellprofiler_processing/pipeline/CFReT_project_CL.cppipe')},\n",
      "    'localhost220513100001_KK22-05-198_FactinAdjusted': {   'path_to_images': PosixPath('/home/jenna/CFReT_data/1.preprocessing_data/Corrected_Images/localhost220513100001_KK22-05-198_FactinAdjusted'),\n",
      "                                                            'path_to_output': PosixPath('cp_output/localhost220513100001_KK22-05-198_FactinAdjusted'),\n",
      "                                                            'path_to_pipeline': PosixPath('/home/jenna/CFReT_data/2.cellprofiler_processing/pipeline/CFReT_project_CL.cppipe')},\n",
      "    'localhost230405150001': {   'path_to_images': PosixPath('/home/jenna/CFReT_data/1.preprocessing_data/Corrected_Images/localhost230405150001'),\n",
      "                                 'path_to_output': PosixPath('cp_output/localhost230405150001'),\n",
      "                                 'path_to_pipeline': PosixPath('/home/jenna/CFReT_data/2.cellprofiler_processing/pipeline/CFReT_project_CL.cppipe')},\n",
      "    'localhost231120090001': {   'path_to_images': PosixPath('/home/jenna/CFReT_data/1.preprocessing_data/Corrected_Images/localhost231120090001'),\n",
      "                                 'path_to_output': PosixPath('cp_output/localhost231120090001'),\n",
      "                                 'path_to_pipeline': PosixPath('/home/jenna/CFReT_data/2.cellprofiler_processing/pipeline/CFReT_project_CL.cppipe')}}\n"
     ]
    }
   ],
   "source": [
    "# create plate info dictionary with all parts of the CellProfiler CLI command to run in parallel\n",
    "plate_info_dictionary = {\n",
    "    name: {\n",
    "        \"path_to_images\": pathlib.Path(list(images_dir.rglob(name))[0]).resolve(\n",
    "            strict=True\n",
    "        ),\n",
    "        \"path_to_output\": pathlib.Path(f\"{output_dir}/{name}\"),\n",
    "        \"path_to_pipeline\": path_to_pipeline,\n",
    "\n",
    "    }\n",
    "    for name in plate_names\n",
    "}\n",
    "\n",
    "# view the dictionary to assess that all info is added correctly\n",
    "pprint.pprint(plate_info_dictionary, indent=4)"
   ]
  },
  {
   "attachments": {},
   "cell_type": "markdown",
   "metadata": {},
   "source": [
    "## Run CellProfiler analysis on all plates\n",
    "\n",
    "**Note:** This code cell will not be run in this notebook due to the instability of jupyter notebooks compared to running as a python script. All CellProfiler SQLite outputs will have the same name but outputted into their respective plate folder (due to parallelization)."
   ]
  },
  {
   "cell_type": "code",
   "execution_count": null,
   "metadata": {},
   "outputs": [],
   "source": [
    "cp.run_cellprofiler_parallel(\n",
    "    plate_info_dictionary=plate_info_dictionary, run_name=run_name\n",
    ")"
   ]
  }
 ],
 "metadata": {
  "kernelspec": {
   "display_name": "cp4",
   "language": "python",
   "name": "python3"
  },
  "language_info": {
   "codemirror_mode": {
    "name": "ipython",
    "version": 3
   },
   "file_extension": ".py",
   "mimetype": "text/x-python",
   "name": "python",
   "nbconvert_exporter": "python",
   "pygments_lexer": "ipython3",
   "version": "3.8.15"
  },
  "orig_nbformat": 4,
  "vscode": {
   "interpreter": {
    "hash": "76e63630a0eb59d63146118723e192b689e9b39a2cbdd1e2e8896e9ba1a56272"
   }
  }
 },
 "nbformat": 4,
 "nbformat_minor": 2
}
