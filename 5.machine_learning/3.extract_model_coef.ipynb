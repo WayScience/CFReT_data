{
 "cells": [
  {
   "cell_type": "markdown",
   "metadata": {},
   "source": [
    "# Extract logistic regression model coefficients per CellProfiler feature\n",
    "\n",
    "The coefficients from the machine learning model will either be positive (x > 0), where if the feature value increases, the more likely the feature is related to the Healthy cell type, negative (x < 0), where if the feature value increases, the more likely the feature is the Failing cell type, and zero (x = 0), where that feature has no impact on predicting if a cell is Healthy or Failing."
   ]
  },
  {
   "cell_type": "markdown",
   "metadata": {},
   "source": [
    "## Import libraries"
   ]
  },
  {
   "cell_type": "code",
   "execution_count": 1,
   "metadata": {},
   "outputs": [],
   "source": [
    "from joblib import load\n",
    "import pathlib\n",
    "import pandas as pd"
   ]
  },
  {
   "cell_type": "markdown",
   "metadata": {},
   "source": [
    "## Load in the training data to collect the CellProfiler feature columns"
   ]
  },
  {
   "cell_type": "code",
   "execution_count": 2,
   "metadata": {},
   "outputs": [
    {
     "name": "stdout",
     "output_type": "stream",
     "text": [
      "638\n",
      "Examples of first five feature columns:\n",
      "Cytoplasm_AreaShape_Compactness\n",
      "Cytoplasm_AreaShape_Eccentricity\n",
      "Cytoplasm_AreaShape_Extent\n",
      "Cytoplasm_AreaShape_FormFactor\n",
      "Cytoplasm_AreaShape_MajorAxisLength\n"
     ]
    }
   ],
   "source": [
    "# Path to data dir\n",
    "data_dir = pathlib.Path(\"./data/\")\n",
    "\n",
    "# Output dir for coefficients\n",
    "coeff_dir = pathlib.Path(\"./coeff_data/\")\n",
    "coeff_dir.mkdir(exist_ok=True)\n",
    "\n",
    "# path to training data to access the feature columns\n",
    "path_to_training_data = pathlib.Path(f\"{data_dir}/training_data.csv\")\n",
    "\n",
    "# Get all the column names from the training data\n",
    "all_columns = pd.read_csv(path_to_training_data, nrows=0).columns\n",
    "\n",
    "# Filter columns that start with 'Metadata_' to only get feature columns from CellProfiler\n",
    "feature_columns = [col for col in all_columns if not col.startswith('Metadata_')]\n",
    "\n",
    "print(len(feature_columns))\n",
    "feature_columns\n",
    "print(f\"Examples of first five feature columns:\")\n",
    "for example_column in feature_columns[:5]:\n",
    "    print(example_column)"
   ]
  },
  {
   "cell_type": "markdown",
   "metadata": {},
   "source": [
    "## Set paths and load in the final model"
   ]
  },
  {
   "cell_type": "code",
   "execution_count": 3,
   "metadata": {},
   "outputs": [],
   "source": [
    "# path to the final model joblib file\n",
    "path_to_final_model = pathlib.Path(\"./models/log_reg_fs_plate_4_final_downsample.joblib\").resolve(strict=True)\n",
    "\n",
    "# load in final model\n",
    "final_model = load(path_to_final_model)"
   ]
  },
  {
   "cell_type": "markdown",
   "metadata": {},
   "source": [
    "## Collect coefficients from the model and match with the correct feature in a dataframe"
   ]
  },
  {
   "cell_type": "code",
   "execution_count": 4,
   "metadata": {},
   "outputs": [
    {
     "name": "stdout",
     "output_type": "stream",
     "text": [
      "(1, 638)\n",
      "The number of coefficients matches the number of feature columns.\n"
     ]
    },
    {
     "data": {
      "text/html": [
       "<div>\n",
       "<style scoped>\n",
       "    .dataframe tbody tr th:only-of-type {\n",
       "        vertical-align: middle;\n",
       "    }\n",
       "\n",
       "    .dataframe tbody tr th {\n",
       "        vertical-align: top;\n",
       "    }\n",
       "\n",
       "    .dataframe thead th {\n",
       "        text-align: right;\n",
       "    }\n",
       "</style>\n",
       "<table border=\"1\" class=\"dataframe\">\n",
       "  <thead>\n",
       "    <tr style=\"text-align: right;\">\n",
       "      <th></th>\n",
       "      <th>Feature</th>\n",
       "      <th>Coefficient</th>\n",
       "    </tr>\n",
       "  </thead>\n",
       "  <tbody>\n",
       "    <tr>\n",
       "      <th>0</th>\n",
       "      <td>Cytoplasm_AreaShape_Compactness</td>\n",
       "      <td>0.137247</td>\n",
       "    </tr>\n",
       "    <tr>\n",
       "      <th>1</th>\n",
       "      <td>Cytoplasm_AreaShape_Eccentricity</td>\n",
       "      <td>0.017544</td>\n",
       "    </tr>\n",
       "    <tr>\n",
       "      <th>2</th>\n",
       "      <td>Cytoplasm_AreaShape_Extent</td>\n",
       "      <td>0.000000</td>\n",
       "    </tr>\n",
       "    <tr>\n",
       "      <th>3</th>\n",
       "      <td>Cytoplasm_AreaShape_FormFactor</td>\n",
       "      <td>0.000000</td>\n",
       "    </tr>\n",
       "    <tr>\n",
       "      <th>4</th>\n",
       "      <td>Cytoplasm_AreaShape_MajorAxisLength</td>\n",
       "      <td>0.000000</td>\n",
       "    </tr>\n",
       "  </tbody>\n",
       "</table>\n",
       "</div>"
      ],
      "text/plain": [
       "                               Feature  Coefficient\n",
       "0      Cytoplasm_AreaShape_Compactness     0.137247\n",
       "1     Cytoplasm_AreaShape_Eccentricity     0.017544\n",
       "2           Cytoplasm_AreaShape_Extent     0.000000\n",
       "3       Cytoplasm_AreaShape_FormFactor     0.000000\n",
       "4  Cytoplasm_AreaShape_MajorAxisLength     0.000000"
      ]
     },
     "execution_count": 4,
     "metadata": {},
     "output_type": "execute_result"
    }
   ],
   "source": [
    "# Get the coefficients\n",
    "coefficients = final_model.coef_\n",
    "\n",
    "# Print the coefficients shape and confirm it is the same number as feature columns from training data\n",
    "print(coefficients.shape)\n",
    "# Confirm it is the same number as feature columns from training data\n",
    "if coefficients.shape[1] == len(feature_columns):\n",
    "    print(\"The number of coefficients matches the number of feature columns.\")\n",
    "else:\n",
    "    print(\"Warning: The number of coefficients does not match the number of feature columns.\")\n",
    "\n",
    "# Create a DataFrame with the coefficients and features\n",
    "coefficients_df = pd.DataFrame({'Feature': feature_columns, 'Coefficient': coefficients.flatten()})\n",
    "\n",
    "# Print the DataFrame\n",
    "coefficients_df.head()"
   ]
  },
  {
   "cell_type": "markdown",
   "metadata": {},
   "source": [
    "## Split the data frame by negative, positive. and zero coefficients which relate to different class importance"
   ]
  },
  {
   "cell_type": "code",
   "execution_count": 5,
   "metadata": {},
   "outputs": [
    {
     "name": "stdout",
     "output_type": "stream",
     "text": [
      "Positive Coefficients: 198\n",
      "\n",
      "Negative Coefficients: 233\n",
      "\n",
      "Zero Coefficients: 207\n"
     ]
    },
    {
     "data": {
      "text/html": [
       "<div>\n",
       "<style scoped>\n",
       "    .dataframe tbody tr th:only-of-type {\n",
       "        vertical-align: middle;\n",
       "    }\n",
       "\n",
       "    .dataframe tbody tr th {\n",
       "        vertical-align: top;\n",
       "    }\n",
       "\n",
       "    .dataframe thead th {\n",
       "        text-align: right;\n",
       "    }\n",
       "</style>\n",
       "<table border=\"1\" class=\"dataframe\">\n",
       "  <thead>\n",
       "    <tr style=\"text-align: right;\">\n",
       "      <th></th>\n",
       "      <th>Feature</th>\n",
       "      <th>Failing_Coeffs</th>\n",
       "    </tr>\n",
       "  </thead>\n",
       "  <tbody>\n",
       "    <tr>\n",
       "      <th>8</th>\n",
       "      <td>Cytoplasm_AreaShape_Zernike_0_0</td>\n",
       "      <td>0.222481</td>\n",
       "    </tr>\n",
       "    <tr>\n",
       "      <th>9</th>\n",
       "      <td>Cytoplasm_AreaShape_Zernike_1_1</td>\n",
       "      <td>0.068312</td>\n",
       "    </tr>\n",
       "    <tr>\n",
       "      <th>12</th>\n",
       "      <td>Cytoplasm_AreaShape_Zernike_3_1</td>\n",
       "      <td>0.039843</td>\n",
       "    </tr>\n",
       "    <tr>\n",
       "      <th>14</th>\n",
       "      <td>Cytoplasm_AreaShape_Zernike_4_0</td>\n",
       "      <td>0.033083</td>\n",
       "    </tr>\n",
       "    <tr>\n",
       "      <th>17</th>\n",
       "      <td>Cytoplasm_AreaShape_Zernike_5_3</td>\n",
       "      <td>0.043159</td>\n",
       "    </tr>\n",
       "  </tbody>\n",
       "</table>\n",
       "</div>"
      ],
      "text/plain": [
       "                            Feature  Failing_Coeffs\n",
       "8   Cytoplasm_AreaShape_Zernike_0_0        0.222481\n",
       "9   Cytoplasm_AreaShape_Zernike_1_1        0.068312\n",
       "12  Cytoplasm_AreaShape_Zernike_3_1        0.039843\n",
       "14  Cytoplasm_AreaShape_Zernike_4_0        0.033083\n",
       "17  Cytoplasm_AreaShape_Zernike_5_3        0.043159"
      ]
     },
     "execution_count": 5,
     "metadata": {},
     "output_type": "execute_result"
    }
   ],
   "source": [
    "# Split into DataFrames with positive, negative, and zero coefficients\n",
    "positive_coeffs_df = coefficients_df[coefficients_df['Coefficient'] > 0].copy()\n",
    "negative_coeffs_df = coefficients_df[coefficients_df['Coefficient'] < 0].copy()\n",
    "zero_coeffs_df = coefficients_df[coefficients_df['Coefficient'] == 0].copy()\n",
    "\n",
    "# Make the values in negative_coeffs_df positive to prevent issues during plotting\n",
    "negative_coeffs_df['Coefficient'] = abs(negative_coeffs_df['Coefficient'])\n",
    "\n",
    "# Rename the columns\n",
    "positive_coeffs_df.columns = ['Feature', 'Healthy_Coeffs']\n",
    "negative_coeffs_df.columns = ['Feature', 'Failing_Coeffs']\n",
    "zero_coeffs_df.columns = ['Feature', 'Zero_Coeffs']\n",
    "\n",
    "# Save the coef data into the \"/coeff_data\" folder\n",
    "positive_coeffs_df.to_csv(f'{coeff_dir}/healthy_coeffs.csv', index=False)\n",
    "negative_coeffs_df.to_csv(f'{coeff_dir}/failing_coeffs.csv', index=False)\n",
    "zero_coeffs_df.to_csv(f'{coeff_dir}/zero_coeffs.csv', index=False)\n",
    "\n",
    "\n",
    "# Print or use the resulting DataFrames\n",
    "print(\"Positive Coefficients:\", positive_coeffs_df.shape[0])\n",
    "print(\"\\nNegative Coefficients:\", negative_coeffs_df.shape[0])\n",
    "print(\"\\nZero Coefficients:\", zero_coeffs_df.shape[0])\n",
    "negative_coeffs_df.head()"
   ]
  },
  {
   "cell_type": "markdown",
   "metadata": {},
   "source": [
    "## Explore the coefficients"
   ]
  },
  {
   "cell_type": "code",
   "execution_count": 6,
   "metadata": {},
   "outputs": [
    {
     "name": "stdout",
     "output_type": "stream",
     "text": [
      "Feature with the highest coefficient: Nuclei_Intensity_MeanIntensityEdge_Hoechst\n",
      "Coefficient value: 1.649163229361904\n"
     ]
    }
   ],
   "source": [
    "# Find the row with the highest coefficient value\n",
    "max_row = coefficients_df.loc[coefficients_df['Coefficient'].idxmax()]\n",
    "\n",
    "# Extract the feature and coefficient values\n",
    "max_feature = max_row['Feature']\n",
    "max_coefficient_value = max_row['Coefficient']\n",
    "\n",
    "# Print or use the result\n",
    "print(\"Feature with the highest coefficient:\", max_feature)\n",
    "print(\"Coefficient value:\", max_coefficient_value)"
   ]
  },
  {
   "cell_type": "code",
   "execution_count": 7,
   "metadata": {},
   "outputs": [
    {
     "data": {
      "text/html": [
       "<div>\n",
       "<style scoped>\n",
       "    .dataframe tbody tr th:only-of-type {\n",
       "        vertical-align: middle;\n",
       "    }\n",
       "\n",
       "    .dataframe tbody tr th {\n",
       "        vertical-align: top;\n",
       "    }\n",
       "\n",
       "    .dataframe thead th {\n",
       "        text-align: right;\n",
       "    }\n",
       "</style>\n",
       "<table border=\"1\" class=\"dataframe\">\n",
       "  <thead>\n",
       "    <tr style=\"text-align: right;\">\n",
       "      <th></th>\n",
       "      <th>Feature</th>\n",
       "      <th>Coefficient</th>\n",
       "    </tr>\n",
       "  </thead>\n",
       "  <tbody>\n",
       "    <tr>\n",
       "      <th>511</th>\n",
       "      <td>Nuclei_Intensity_MeanIntensityEdge_Hoechst</td>\n",
       "      <td>1.649163</td>\n",
       "    </tr>\n",
       "    <tr>\n",
       "      <th>513</th>\n",
       "      <td>Nuclei_Intensity_MinIntensityEdge_Hoechst</td>\n",
       "      <td>0.956871</td>\n",
       "    </tr>\n",
       "    <tr>\n",
       "      <th>496</th>\n",
       "      <td>Nuclei_Intensity_IntegratedIntensity_PM</td>\n",
       "      <td>0.647266</td>\n",
       "    </tr>\n",
       "    <tr>\n",
       "      <th>362</th>\n",
       "      <td>Cells_Texture_AngularSecondMoment_Hoechst_3_01...</td>\n",
       "      <td>0.549682</td>\n",
       "    </tr>\n",
       "    <tr>\n",
       "      <th>80</th>\n",
       "      <td>Cytoplasm_Intensity_StdIntensityEdge_Hoechst</td>\n",
       "      <td>0.541271</td>\n",
       "    </tr>\n",
       "    <tr>\n",
       "      <th>491</th>\n",
       "      <td>Nuclei_Intensity_IntegratedIntensityEdge_Hoechst</td>\n",
       "      <td>0.522651</td>\n",
       "    </tr>\n",
       "    <tr>\n",
       "      <th>451</th>\n",
       "      <td>Nuclei_Correlation_K_Mitochondria_PM</td>\n",
       "      <td>0.511737</td>\n",
       "    </tr>\n",
       "    <tr>\n",
       "      <th>37</th>\n",
       "      <td>Cytoplasm_Correlation_Correlation_Mitochondria_PM</td>\n",
       "      <td>0.437080</td>\n",
       "    </tr>\n",
       "    <tr>\n",
       "      <th>515</th>\n",
       "      <td>Nuclei_Intensity_MinIntensityEdge_PM</td>\n",
       "      <td>0.426783</td>\n",
       "    </tr>\n",
       "    <tr>\n",
       "      <th>455</th>\n",
       "      <td>Nuclei_Correlation_K_PM_Mitochondria</td>\n",
       "      <td>0.354484</td>\n",
       "    </tr>\n",
       "  </tbody>\n",
       "</table>\n",
       "</div>"
      ],
      "text/plain": [
       "                                               Feature  Coefficient\n",
       "511         Nuclei_Intensity_MeanIntensityEdge_Hoechst     1.649163\n",
       "513          Nuclei_Intensity_MinIntensityEdge_Hoechst     0.956871\n",
       "496            Nuclei_Intensity_IntegratedIntensity_PM     0.647266\n",
       "362  Cells_Texture_AngularSecondMoment_Hoechst_3_01...     0.549682\n",
       "80        Cytoplasm_Intensity_StdIntensityEdge_Hoechst     0.541271\n",
       "491   Nuclei_Intensity_IntegratedIntensityEdge_Hoechst     0.522651\n",
       "451               Nuclei_Correlation_K_Mitochondria_PM     0.511737\n",
       "37   Cytoplasm_Correlation_Correlation_Mitochondria_PM     0.437080\n",
       "515               Nuclei_Intensity_MinIntensityEdge_PM     0.426783\n",
       "455               Nuclei_Correlation_K_PM_Mitochondria     0.354484"
      ]
     },
     "execution_count": 7,
     "metadata": {},
     "output_type": "execute_result"
    }
   ],
   "source": [
    "# Sort the DataFrame based on the coefficient values (from most positive to most negative)\n",
    "coefficients_healthy_df = coefficients_df.sort_values(by='Coefficient', ascending=False)\n",
    "\n",
    "# Show the top ten ranking features for predicting \"Healthy\" class\n",
    "coefficients_healthy_df.head(10)"
   ]
  },
  {
   "cell_type": "code",
   "execution_count": 8,
   "metadata": {},
   "outputs": [
    {
     "name": "stdout",
     "output_type": "stream",
     "text": [
      "Feature with the most negative coefficient: Cells_Intensity_IntegratedIntensityEdge_Actin\n",
      "Coefficient value: -1.1894472062254957\n"
     ]
    }
   ],
   "source": [
    "# Find the row with the most negative coefficient value\n",
    "min_row = coefficients_df.loc[coefficients_df['Coefficient'].idxmin()]\n",
    "\n",
    "# Extract the feature and coefficient values\n",
    "min_feature = min_row['Feature']\n",
    "min_coefficient_value = min_row['Coefficient']\n",
    "\n",
    "# Print or use the result\n",
    "print(\"Feature with the most negative coefficient:\", min_feature)\n",
    "print(\"Coefficient value:\", min_coefficient_value)"
   ]
  },
  {
   "cell_type": "code",
   "execution_count": 9,
   "metadata": {},
   "outputs": [
    {
     "data": {
      "text/html": [
       "<div>\n",
       "<style scoped>\n",
       "    .dataframe tbody tr th:only-of-type {\n",
       "        vertical-align: middle;\n",
       "    }\n",
       "\n",
       "    .dataframe tbody tr th {\n",
       "        vertical-align: top;\n",
       "    }\n",
       "\n",
       "    .dataframe thead th {\n",
       "        text-align: right;\n",
       "    }\n",
       "</style>\n",
       "<table border=\"1\" class=\"dataframe\">\n",
       "  <thead>\n",
       "    <tr style=\"text-align: right;\">\n",
       "      <th></th>\n",
       "      <th>Feature</th>\n",
       "      <th>Coefficient</th>\n",
       "    </tr>\n",
       "  </thead>\n",
       "  <tbody>\n",
       "    <tr>\n",
       "      <th>277</th>\n",
       "      <td>Cells_Intensity_IntegratedIntensityEdge_Actin</td>\n",
       "      <td>-1.189447</td>\n",
       "    </tr>\n",
       "    <tr>\n",
       "      <th>395</th>\n",
       "      <td>Nuclei_AreaShape_MaxFeretDiameter</td>\n",
       "      <td>-1.010345</td>\n",
       "    </tr>\n",
       "    <tr>\n",
       "      <th>519</th>\n",
       "      <td>Nuclei_Intensity_StdIntensityEdge_Hoechst</td>\n",
       "      <td>-0.731721</td>\n",
       "    </tr>\n",
       "    <tr>\n",
       "      <th>299</th>\n",
       "      <td>Cells_Intensity_StdIntensityEdge_Hoechst</td>\n",
       "      <td>-0.664693</td>\n",
       "    </tr>\n",
       "    <tr>\n",
       "      <th>443</th>\n",
       "      <td>Nuclei_Correlation_K_ER_Mitochondria</td>\n",
       "      <td>-0.572026</td>\n",
       "    </tr>\n",
       "    <tr>\n",
       "      <th>471</th>\n",
       "      <td>Nuclei_Correlation_RWC_ER_Hoechst</td>\n",
       "      <td>-0.517737</td>\n",
       "    </tr>\n",
       "    <tr>\n",
       "      <th>266</th>\n",
       "      <td>Cells_Correlation_RWC_ER_Actin</td>\n",
       "      <td>-0.455613</td>\n",
       "    </tr>\n",
       "    <tr>\n",
       "      <th>398</th>\n",
       "      <td>Nuclei_AreaShape_Zernike_0_0</td>\n",
       "      <td>-0.442978</td>\n",
       "    </tr>\n",
       "    <tr>\n",
       "      <th>473</th>\n",
       "      <td>Nuclei_Correlation_RWC_ER_PM</td>\n",
       "      <td>-0.426607</td>\n",
       "    </tr>\n",
       "    <tr>\n",
       "      <th>214</th>\n",
       "      <td>Cells_AreaShape_Area</td>\n",
       "      <td>-0.380687</td>\n",
       "    </tr>\n",
       "  </tbody>\n",
       "</table>\n",
       "</div>"
      ],
      "text/plain": [
       "                                           Feature  Coefficient\n",
       "277  Cells_Intensity_IntegratedIntensityEdge_Actin    -1.189447\n",
       "395              Nuclei_AreaShape_MaxFeretDiameter    -1.010345\n",
       "519      Nuclei_Intensity_StdIntensityEdge_Hoechst    -0.731721\n",
       "299       Cells_Intensity_StdIntensityEdge_Hoechst    -0.664693\n",
       "443           Nuclei_Correlation_K_ER_Mitochondria    -0.572026\n",
       "471              Nuclei_Correlation_RWC_ER_Hoechst    -0.517737\n",
       "266                 Cells_Correlation_RWC_ER_Actin    -0.455613\n",
       "398                   Nuclei_AreaShape_Zernike_0_0    -0.442978\n",
       "473                   Nuclei_Correlation_RWC_ER_PM    -0.426607\n",
       "214                           Cells_AreaShape_Area    -0.380687"
      ]
     },
     "execution_count": 9,
     "metadata": {},
     "output_type": "execute_result"
    }
   ],
   "source": [
    "# Sort the DataFrame based on the coefficient values (from most negative to most positive)\n",
    "coefficients_failing_df = coefficients_df.sort_values(by='Coefficient', ascending=True)\n",
    "\n",
    "# Show the top ten ranking features for predicting \"Failing\" class\n",
    "coefficients_failing_df.head(10)"
   ]
  },
  {
   "cell_type": "markdown",
   "metadata": {},
   "source": [
    "## Add ranking column with sorted descending values and save the CSV for visualization\n",
    "\n",
    "Rank is based on the highest positive coefficient which will have rank one and then descending from there. We expect to see that the model will take into account many different features (positive and negative which relate to different classes) and there will be many features at zero meaning they are redundant to the model."
   ]
  },
  {
   "cell_type": "code",
   "execution_count": 10,
   "metadata": {},
   "outputs": [
    {
     "name": "stdout",
     "output_type": "stream",
     "text": [
      "(638, 3)\n"
     ]
    },
    {
     "data": {
      "text/html": [
       "<div>\n",
       "<style scoped>\n",
       "    .dataframe tbody tr th:only-of-type {\n",
       "        vertical-align: middle;\n",
       "    }\n",
       "\n",
       "    .dataframe tbody tr th {\n",
       "        vertical-align: top;\n",
       "    }\n",
       "\n",
       "    .dataframe thead th {\n",
       "        text-align: right;\n",
       "    }\n",
       "</style>\n",
       "<table border=\"1\" class=\"dataframe\">\n",
       "  <thead>\n",
       "    <tr style=\"text-align: right;\">\n",
       "      <th></th>\n",
       "      <th>Feature</th>\n",
       "      <th>Coefficient</th>\n",
       "      <th>Rank</th>\n",
       "    </tr>\n",
       "  </thead>\n",
       "  <tbody>\n",
       "    <tr>\n",
       "      <th>511</th>\n",
       "      <td>Nuclei_Intensity_MeanIntensityEdge_Hoechst</td>\n",
       "      <td>1.649163</td>\n",
       "      <td>1</td>\n",
       "    </tr>\n",
       "    <tr>\n",
       "      <th>513</th>\n",
       "      <td>Nuclei_Intensity_MinIntensityEdge_Hoechst</td>\n",
       "      <td>0.956871</td>\n",
       "      <td>2</td>\n",
       "    </tr>\n",
       "    <tr>\n",
       "      <th>496</th>\n",
       "      <td>Nuclei_Intensity_IntegratedIntensity_PM</td>\n",
       "      <td>0.647266</td>\n",
       "      <td>3</td>\n",
       "    </tr>\n",
       "    <tr>\n",
       "      <th>362</th>\n",
       "      <td>Cells_Texture_AngularSecondMoment_Hoechst_3_01...</td>\n",
       "      <td>0.549682</td>\n",
       "      <td>4</td>\n",
       "    </tr>\n",
       "    <tr>\n",
       "      <th>80</th>\n",
       "      <td>Cytoplasm_Intensity_StdIntensityEdge_Hoechst</td>\n",
       "      <td>0.541271</td>\n",
       "      <td>5</td>\n",
       "    </tr>\n",
       "  </tbody>\n",
       "</table>\n",
       "</div>"
      ],
      "text/plain": [
       "                                               Feature  Coefficient  Rank\n",
       "511         Nuclei_Intensity_MeanIntensityEdge_Hoechst     1.649163     1\n",
       "513          Nuclei_Intensity_MinIntensityEdge_Hoechst     0.956871     2\n",
       "496            Nuclei_Intensity_IntegratedIntensity_PM     0.647266     3\n",
       "362  Cells_Texture_AngularSecondMoment_Hoechst_3_01...     0.549682     4\n",
       "80        Cytoplasm_Intensity_StdIntensityEdge_Hoechst     0.541271     5"
      ]
     },
     "execution_count": 10,
     "metadata": {},
     "output_type": "execute_result"
    }
   ],
   "source": [
    "# Sort coefficients_df by descending order\n",
    "coefficients_df = coefficients_df.sort_values(by='Coefficient', ascending=False)\n",
    "\n",
    "# Add a new column 'Rank'\n",
    "coefficients_df['Rank'] = range(1, len(coefficients_df) + 1)\n",
    "\n",
    "# Save the ranked df\n",
    "coefficients_df.to_csv(f'{coeff_dir}/ranked_coeffs.csv', index=False)\n",
    "\n",
    "# Show df to assess if the ranking was performed correctly\n",
    "print(coefficients_df.shape)\n",
    "coefficients_df.head()"
   ]
  }
 ],
 "metadata": {
  "kernelspec": {
   "display_name": "Python 3",
   "language": "python",
   "name": "python3"
  },
  "language_info": {
   "codemirror_mode": {
    "name": "ipython",
    "version": 3
   },
   "file_extension": ".py",
   "mimetype": "text/x-python",
   "name": "python",
   "nbconvert_exporter": "python",
   "pygments_lexer": "ipython3",
   "version": "3.9.19"
  }
 },
 "nbformat": 4,
 "nbformat_minor": 2
}
