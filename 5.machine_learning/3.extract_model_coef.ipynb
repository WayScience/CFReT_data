{
 "cells": [
  {
   "cell_type": "markdown",
   "metadata": {},
   "source": [
    "# Extract logistic regression model coefficients per CellProfiler feature\n",
    "\n",
    "The coefficients from the machine learning model will either be positive (x > 0), where if the feature value increases, the more likely the feature is related to the Healthy cell type, negative (x < 0), where if the feature value increases, the more likely the feature is the Failing cell type, and zero (x = 0), where that feature has no impact on predicting if a cell is Healthy or Failing."
   ]
  },
  {
   "cell_type": "markdown",
   "metadata": {},
   "source": [
    "## Import libraries"
   ]
  },
  {
   "cell_type": "code",
   "execution_count": 1,
   "metadata": {},
   "outputs": [],
   "source": [
    "from joblib import load\n",
    "import pathlib\n",
    "import pandas as pd"
   ]
  },
  {
   "cell_type": "markdown",
   "metadata": {},
   "source": [
    "## Load in the training data to collect the CellProfiler feature columns"
   ]
  },
  {
   "cell_type": "code",
   "execution_count": 2,
   "metadata": {},
   "outputs": [
    {
     "name": "stdout",
     "output_type": "stream",
     "text": [
      "631\n",
      "Examples of first five feature columns:\n",
      "Cytoplasm_AreaShape_Compactness\n",
      "Cytoplasm_AreaShape_Eccentricity\n",
      "Cytoplasm_AreaShape_Extent\n",
      "Cytoplasm_AreaShape_FormFactor\n",
      "Cytoplasm_AreaShape_MajorAxisLength\n"
     ]
    }
   ],
   "source": [
    "# Path to ata dir\n",
    "data_dir = pathlib.Path(\"./data/\")\n",
    "\n",
    "# path to training data to access the feature columns\n",
    "path_to_training_data = pathlib.Path(f\"{data_dir}/training_data.csv\")\n",
    "\n",
    "# Get all the column names from the training data\n",
    "all_columns = pd.read_csv(path_to_training_data, nrows=0).columns\n",
    "\n",
    "# Filter columns that start with 'Metadata_' to only get feature columns from CellProfiler\n",
    "feature_columns = [col for col in all_columns if not col.startswith('Metadata_')]\n",
    "\n",
    "print(len(feature_columns))\n",
    "feature_columns\n",
    "print(f\"Examples of first five feature columns:\")\n",
    "for example_column in feature_columns[:5]:\n",
    "    print(example_column)"
   ]
  },
  {
   "cell_type": "markdown",
   "metadata": {},
   "source": [
    "## Set paths and load in the final model"
   ]
  },
  {
   "cell_type": "code",
   "execution_count": 3,
   "metadata": {},
   "outputs": [],
   "source": [
    "# path to the final model joblib file\n",
    "path_to_final_model = pathlib.Path(\"./models/log_reg_fs_plate_4_final_downsample.joblib\").resolve(strict=True)\n",
    "\n",
    "# load in final model\n",
    "final_model = load(path_to_final_model)"
   ]
  },
  {
   "cell_type": "markdown",
   "metadata": {},
   "source": [
    "## Collect coefficients from the model and match with the correct feature in a dataframe"
   ]
  },
  {
   "cell_type": "code",
   "execution_count": 4,
   "metadata": {},
   "outputs": [
    {
     "name": "stdout",
     "output_type": "stream",
     "text": [
      "(1, 631)\n",
      "The number of coefficients matches the number of feature columns.\n"
     ]
    },
    {
     "data": {
      "text/html": [
       "<div>\n",
       "<style scoped>\n",
       "    .dataframe tbody tr th:only-of-type {\n",
       "        vertical-align: middle;\n",
       "    }\n",
       "\n",
       "    .dataframe tbody tr th {\n",
       "        vertical-align: top;\n",
       "    }\n",
       "\n",
       "    .dataframe thead th {\n",
       "        text-align: right;\n",
       "    }\n",
       "</style>\n",
       "<table border=\"1\" class=\"dataframe\">\n",
       "  <thead>\n",
       "    <tr style=\"text-align: right;\">\n",
       "      <th></th>\n",
       "      <th>Feature</th>\n",
       "      <th>Coefficient</th>\n",
       "    </tr>\n",
       "  </thead>\n",
       "  <tbody>\n",
       "    <tr>\n",
       "      <th>0</th>\n",
       "      <td>Cytoplasm_AreaShape_Compactness</td>\n",
       "      <td>0.084341</td>\n",
       "    </tr>\n",
       "    <tr>\n",
       "      <th>1</th>\n",
       "      <td>Cytoplasm_AreaShape_Eccentricity</td>\n",
       "      <td>0.057390</td>\n",
       "    </tr>\n",
       "    <tr>\n",
       "      <th>2</th>\n",
       "      <td>Cytoplasm_AreaShape_Extent</td>\n",
       "      <td>0.000000</td>\n",
       "    </tr>\n",
       "    <tr>\n",
       "      <th>3</th>\n",
       "      <td>Cytoplasm_AreaShape_FormFactor</td>\n",
       "      <td>0.016020</td>\n",
       "    </tr>\n",
       "    <tr>\n",
       "      <th>4</th>\n",
       "      <td>Cytoplasm_AreaShape_MajorAxisLength</td>\n",
       "      <td>0.000000</td>\n",
       "    </tr>\n",
       "  </tbody>\n",
       "</table>\n",
       "</div>"
      ],
      "text/plain": [
       "                               Feature  Coefficient\n",
       "0      Cytoplasm_AreaShape_Compactness     0.084341\n",
       "1     Cytoplasm_AreaShape_Eccentricity     0.057390\n",
       "2           Cytoplasm_AreaShape_Extent     0.000000\n",
       "3       Cytoplasm_AreaShape_FormFactor     0.016020\n",
       "4  Cytoplasm_AreaShape_MajorAxisLength     0.000000"
      ]
     },
     "execution_count": 4,
     "metadata": {},
     "output_type": "execute_result"
    }
   ],
   "source": [
    "# Get the coefficients (assuming it's a linear model)\n",
    "coefficients = final_model.coef_\n",
    "\n",
    "# Print the coefficients shape and confirm it is the same number as feature columns from training data\n",
    "print(coefficients.shape)\n",
    "# Confirm it is the same number as feature columns from training data\n",
    "if coefficients.shape[1] == len(feature_columns):\n",
    "    print(\"The number of coefficients matches the number of feature columns.\")\n",
    "else:\n",
    "    print(\"Warning: The number of coefficients does not match the number of feature columns.\")\n",
    "\n",
    "# Create a DataFrame with the coefficients and features\n",
    "coefficients_df = pd.DataFrame({'Feature': feature_columns, 'Coefficient': coefficients.flatten()})\n",
    "\n",
    "# Print the DataFrame\n",
    "coefficients_df.head()"
   ]
  },
  {
   "cell_type": "markdown",
   "metadata": {},
   "source": [
    "## Split the data frame by negative, positive. and zero coefficients which relate to different class importance"
   ]
  },
  {
   "cell_type": "code",
   "execution_count": 5,
   "metadata": {},
   "outputs": [
    {
     "name": "stdout",
     "output_type": "stream",
     "text": [
      "Positive Coefficients: 208\n",
      "\n",
      "Negative Coefficients: 216\n",
      "\n",
      "Zero Coefficients: 207\n"
     ]
    },
    {
     "data": {
      "text/html": [
       "<div>\n",
       "<style scoped>\n",
       "    .dataframe tbody tr th:only-of-type {\n",
       "        vertical-align: middle;\n",
       "    }\n",
       "\n",
       "    .dataframe tbody tr th {\n",
       "        vertical-align: top;\n",
       "    }\n",
       "\n",
       "    .dataframe thead th {\n",
       "        text-align: right;\n",
       "    }\n",
       "</style>\n",
       "<table border=\"1\" class=\"dataframe\">\n",
       "  <thead>\n",
       "    <tr style=\"text-align: right;\">\n",
       "      <th></th>\n",
       "      <th>Feature</th>\n",
       "      <th>Failing_Coeffs</th>\n",
       "    </tr>\n",
       "  </thead>\n",
       "  <tbody>\n",
       "    <tr>\n",
       "      <th>7</th>\n",
       "      <td>Cytoplasm_AreaShape_Solidity</td>\n",
       "      <td>-0.230750</td>\n",
       "    </tr>\n",
       "    <tr>\n",
       "      <th>8</th>\n",
       "      <td>Cytoplasm_AreaShape_Zernike_0_0</td>\n",
       "      <td>-0.091690</td>\n",
       "    </tr>\n",
       "    <tr>\n",
       "      <th>10</th>\n",
       "      <td>Cytoplasm_AreaShape_Zernike_2_0</td>\n",
       "      <td>-0.003549</td>\n",
       "    </tr>\n",
       "    <tr>\n",
       "      <th>12</th>\n",
       "      <td>Cytoplasm_AreaShape_Zernike_3_1</td>\n",
       "      <td>-0.079241</td>\n",
       "    </tr>\n",
       "    <tr>\n",
       "      <th>15</th>\n",
       "      <td>Cytoplasm_AreaShape_Zernike_4_2</td>\n",
       "      <td>-0.027028</td>\n",
       "    </tr>\n",
       "  </tbody>\n",
       "</table>\n",
       "</div>"
      ],
      "text/plain": [
       "                            Feature  Failing_Coeffs\n",
       "7      Cytoplasm_AreaShape_Solidity       -0.230750\n",
       "8   Cytoplasm_AreaShape_Zernike_0_0       -0.091690\n",
       "10  Cytoplasm_AreaShape_Zernike_2_0       -0.003549\n",
       "12  Cytoplasm_AreaShape_Zernike_3_1       -0.079241\n",
       "15  Cytoplasm_AreaShape_Zernike_4_2       -0.027028"
      ]
     },
     "execution_count": 5,
     "metadata": {},
     "output_type": "execute_result"
    }
   ],
   "source": [
    "# Split into DataFrames with positive, negative, and zero coefficients\n",
    "positive_coeffs_df = coefficients_df[coefficients_df['Coefficient'] > 0].copy()\n",
    "negative_coeffs_df = coefficients_df[coefficients_df['Coefficient'] < 0].copy()\n",
    "zero_coeffs_df = coefficients_df[coefficients_df['Coefficient'] == 0].copy()\n",
    "\n",
    "# Rename the columns\n",
    "positive_coeffs_df.columns = ['Feature', 'Healthy_Coeffs']\n",
    "negative_coeffs_df.columns = ['Feature', 'Failing_Coeffs']\n",
    "zero_coeffs_df.columns = ['Feature', 'Zero_Coeffs']\n",
    "\n",
    "# Save the coef data into the \"/data\" folder\n",
    "positive_coeffs_df.to_csv(f'{data_dir}/positive_coeffs.csv', index=False)\n",
    "negative_coeffs_df.to_csv(f'{data_dir}/negative_coeffs.csv', index=False)\n",
    "zero_coeffs_df.to_csv(f'{data_dir}/zero_coeffs.csv', index=False)\n",
    "\n",
    "\n",
    "# Print or use the resulting DataFrames\n",
    "print(\"Positive Coefficients:\", positive_coeffs_df.shape[0])\n",
    "print(\"\\nNegative Coefficients:\", negative_coeffs_df.shape[0])\n",
    "print(\"\\nZero Coefficients:\", zero_coeffs_df.shape[0])\n",
    "negative_coeffs_df.head()"
   ]
  },
  {
   "cell_type": "markdown",
   "metadata": {},
   "source": [
    "## Explore the coefficients"
   ]
  },
  {
   "cell_type": "code",
   "execution_count": 6,
   "metadata": {},
   "outputs": [
    {
     "name": "stdout",
     "output_type": "stream",
     "text": [
      "Feature with the highest coefficient: Nuclei_Intensity_MeanIntensityEdge_Hoechst\n",
      "Coefficient value: 1.264448489875555\n"
     ]
    }
   ],
   "source": [
    "# Find the row with the highest coefficient value\n",
    "max_row = coefficients_df.loc[coefficients_df['Coefficient'].idxmax()]\n",
    "\n",
    "# Extract the feature and coefficient values\n",
    "max_feature = max_row['Feature']\n",
    "max_coefficient_value = max_row['Coefficient']\n",
    "\n",
    "# Print or use the result\n",
    "print(\"Feature with the highest coefficient:\", max_feature)\n",
    "print(\"Coefficient value:\", max_coefficient_value)"
   ]
  },
  {
   "cell_type": "code",
   "execution_count": 7,
   "metadata": {},
   "outputs": [
    {
     "data": {
      "text/html": [
       "<div>\n",
       "<style scoped>\n",
       "    .dataframe tbody tr th:only-of-type {\n",
       "        vertical-align: middle;\n",
       "    }\n",
       "\n",
       "    .dataframe tbody tr th {\n",
       "        vertical-align: top;\n",
       "    }\n",
       "\n",
       "    .dataframe thead th {\n",
       "        text-align: right;\n",
       "    }\n",
       "</style>\n",
       "<table border=\"1\" class=\"dataframe\">\n",
       "  <thead>\n",
       "    <tr style=\"text-align: right;\">\n",
       "      <th></th>\n",
       "      <th>Feature</th>\n",
       "      <th>Coefficient</th>\n",
       "    </tr>\n",
       "  </thead>\n",
       "  <tbody>\n",
       "    <tr>\n",
       "      <th>502</th>\n",
       "      <td>Nuclei_Intensity_MeanIntensityEdge_Hoechst</td>\n",
       "      <td>1.264448</td>\n",
       "    </tr>\n",
       "    <tr>\n",
       "      <th>504</th>\n",
       "      <td>Nuclei_Intensity_MinIntensityEdge_Hoechst</td>\n",
       "      <td>0.807379</td>\n",
       "    </tr>\n",
       "    <tr>\n",
       "      <th>487</th>\n",
       "      <td>Nuclei_Intensity_IntegratedIntensity_PM</td>\n",
       "      <td>0.764603</td>\n",
       "    </tr>\n",
       "    <tr>\n",
       "      <th>482</th>\n",
       "      <td>Nuclei_Intensity_IntegratedIntensityEdge_Hoechst</td>\n",
       "      <td>0.734242</td>\n",
       "    </tr>\n",
       "    <tr>\n",
       "      <th>80</th>\n",
       "      <td>Cytoplasm_Intensity_StdIntensityEdge_Hoechst</td>\n",
       "      <td>0.582452</td>\n",
       "    </tr>\n",
       "    <tr>\n",
       "      <th>443</th>\n",
       "      <td>Nuclei_Correlation_K_Mitochondria_PM</td>\n",
       "      <td>0.553185</td>\n",
       "    </tr>\n",
       "    <tr>\n",
       "      <th>199</th>\n",
       "      <td>Cytoplasm_Texture_InverseDifferenceMoment_Acti...</td>\n",
       "      <td>0.473053</td>\n",
       "    </tr>\n",
       "    <tr>\n",
       "      <th>569</th>\n",
       "      <td>Nuclei_Texture_AngularSecondMoment_PM_3_01_256</td>\n",
       "      <td>0.457448</td>\n",
       "    </tr>\n",
       "    <tr>\n",
       "      <th>353</th>\n",
       "      <td>Cells_Texture_AngularSecondMoment_Hoechst_3_01...</td>\n",
       "      <td>0.425375</td>\n",
       "    </tr>\n",
       "    <tr>\n",
       "      <th>472</th>\n",
       "      <td>Nuclei_Correlation_RWC_Mitochondria_PM</td>\n",
       "      <td>0.397943</td>\n",
       "    </tr>\n",
       "  </tbody>\n",
       "</table>\n",
       "</div>"
      ],
      "text/plain": [
       "                                               Feature  Coefficient\n",
       "502         Nuclei_Intensity_MeanIntensityEdge_Hoechst     1.264448\n",
       "504          Nuclei_Intensity_MinIntensityEdge_Hoechst     0.807379\n",
       "487            Nuclei_Intensity_IntegratedIntensity_PM     0.764603\n",
       "482   Nuclei_Intensity_IntegratedIntensityEdge_Hoechst     0.734242\n",
       "80        Cytoplasm_Intensity_StdIntensityEdge_Hoechst     0.582452\n",
       "443               Nuclei_Correlation_K_Mitochondria_PM     0.553185\n",
       "199  Cytoplasm_Texture_InverseDifferenceMoment_Acti...     0.473053\n",
       "569     Nuclei_Texture_AngularSecondMoment_PM_3_01_256     0.457448\n",
       "353  Cells_Texture_AngularSecondMoment_Hoechst_3_01...     0.425375\n",
       "472             Nuclei_Correlation_RWC_Mitochondria_PM     0.397943"
      ]
     },
     "execution_count": 7,
     "metadata": {},
     "output_type": "execute_result"
    }
   ],
   "source": [
    "# Sort the DataFrame based on the coefficient values (from most positive to most negative)\n",
    "coefficients_healthy_df = coefficients_df.sort_values(by='Coefficient', ascending=False)\n",
    "\n",
    "# Show the top ten ranking features for predicting \"Healthy\" class\n",
    "coefficients_healthy_df.head(10)"
   ]
  },
  {
   "cell_type": "code",
   "execution_count": 8,
   "metadata": {},
   "outputs": [
    {
     "name": "stdout",
     "output_type": "stream",
     "text": [
      "Feature with the most negative coefficient: Cells_Intensity_IntegratedIntensityEdge_Actin\n",
      "Coefficient value: -0.8649601345230622\n"
     ]
    }
   ],
   "source": [
    "# Find the row with the most negative coefficient value\n",
    "min_row = coefficients_df.loc[coefficients_df['Coefficient'].idxmin()]\n",
    "\n",
    "# Extract the feature and coefficient values\n",
    "min_feature = min_row['Feature']\n",
    "min_coefficient_value = min_row['Coefficient']\n",
    "\n",
    "# Print or use the result\n",
    "print(\"Feature with the most negative coefficient:\", min_feature)\n",
    "print(\"Coefficient value:\", min_coefficient_value)"
   ]
  },
  {
   "cell_type": "code",
   "execution_count": 9,
   "metadata": {},
   "outputs": [
    {
     "data": {
      "text/html": [
       "<div>\n",
       "<style scoped>\n",
       "    .dataframe tbody tr th:only-of-type {\n",
       "        vertical-align: middle;\n",
       "    }\n",
       "\n",
       "    .dataframe tbody tr th {\n",
       "        vertical-align: top;\n",
       "    }\n",
       "\n",
       "    .dataframe thead th {\n",
       "        text-align: right;\n",
       "    }\n",
       "</style>\n",
       "<table border=\"1\" class=\"dataframe\">\n",
       "  <thead>\n",
       "    <tr style=\"text-align: right;\">\n",
       "      <th></th>\n",
       "      <th>Feature</th>\n",
       "      <th>Coefficient</th>\n",
       "    </tr>\n",
       "  </thead>\n",
       "  <tbody>\n",
       "    <tr>\n",
       "      <th>272</th>\n",
       "      <td>Cells_Intensity_IntegratedIntensityEdge_Actin</td>\n",
       "      <td>-0.864960</td>\n",
       "    </tr>\n",
       "    <tr>\n",
       "      <th>292</th>\n",
       "      <td>Cells_Intensity_StdIntensityEdge_Hoechst</td>\n",
       "      <td>-0.653109</td>\n",
       "    </tr>\n",
       "    <tr>\n",
       "      <th>462</th>\n",
       "      <td>Nuclei_Correlation_RWC_ER_Hoechst</td>\n",
       "      <td>-0.498114</td>\n",
       "    </tr>\n",
       "    <tr>\n",
       "      <th>510</th>\n",
       "      <td>Nuclei_Intensity_StdIntensityEdge_Hoechst</td>\n",
       "      <td>-0.496293</td>\n",
       "    </tr>\n",
       "    <tr>\n",
       "      <th>387</th>\n",
       "      <td>Nuclei_AreaShape_MajorAxisLength</td>\n",
       "      <td>-0.494908</td>\n",
       "    </tr>\n",
       "    <tr>\n",
       "      <th>43</th>\n",
       "      <td>Cytoplasm_Correlation_RWC_ER_Actin</td>\n",
       "      <td>-0.487502</td>\n",
       "    </tr>\n",
       "    <tr>\n",
       "      <th>213</th>\n",
       "      <td>Cells_AreaShape_Area</td>\n",
       "      <td>-0.479219</td>\n",
       "    </tr>\n",
       "    <tr>\n",
       "      <th>388</th>\n",
       "      <td>Nuclei_AreaShape_MinFeretDiameter</td>\n",
       "      <td>-0.472828</td>\n",
       "    </tr>\n",
       "    <tr>\n",
       "      <th>175</th>\n",
       "      <td>Cytoplasm_Texture_DifferenceVariance_Hoechst_3...</td>\n",
       "      <td>-0.463773</td>\n",
       "    </tr>\n",
       "    <tr>\n",
       "      <th>469</th>\n",
       "      <td>Nuclei_Correlation_RWC_Mitochondria_Actin</td>\n",
       "      <td>-0.446890</td>\n",
       "    </tr>\n",
       "  </tbody>\n",
       "</table>\n",
       "</div>"
      ],
      "text/plain": [
       "                                               Feature  Coefficient\n",
       "272      Cells_Intensity_IntegratedIntensityEdge_Actin    -0.864960\n",
       "292           Cells_Intensity_StdIntensityEdge_Hoechst    -0.653109\n",
       "462                  Nuclei_Correlation_RWC_ER_Hoechst    -0.498114\n",
       "510          Nuclei_Intensity_StdIntensityEdge_Hoechst    -0.496293\n",
       "387                   Nuclei_AreaShape_MajorAxisLength    -0.494908\n",
       "43                  Cytoplasm_Correlation_RWC_ER_Actin    -0.487502\n",
       "213                               Cells_AreaShape_Area    -0.479219\n",
       "388                  Nuclei_AreaShape_MinFeretDiameter    -0.472828\n",
       "175  Cytoplasm_Texture_DifferenceVariance_Hoechst_3...    -0.463773\n",
       "469          Nuclei_Correlation_RWC_Mitochondria_Actin    -0.446890"
      ]
     },
     "execution_count": 9,
     "metadata": {},
     "output_type": "execute_result"
    }
   ],
   "source": [
    "# Sort the DataFrame based on the coefficient values (from most negative to most positive)\n",
    "coefficients_failing_df = coefficients_df.sort_values(by='Coefficient', ascending=True)\n",
    "\n",
    "# Show the top ten ranking features for predicting \"Failing\" class\n",
    "coefficients_failing_df.head(10)"
   ]
  }
 ],
 "metadata": {
  "kernelspec": {
   "display_name": "Python 3",
   "language": "python",
   "name": "python3"
  },
  "language_info": {
   "codemirror_mode": {
    "name": "ipython",
    "version": 3
   },
   "file_extension": ".py",
   "mimetype": "text/x-python",
   "name": "python",
   "nbconvert_exporter": "python",
   "pygments_lexer": "ipython3",
   "version": "3.9.18"
  }
 },
 "nbformat": 4,
 "nbformat_minor": 2
}
